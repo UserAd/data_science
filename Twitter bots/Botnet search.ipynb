{
 "cells": [
  {
   "cell_type": "code",
   "execution_count": 58,
   "metadata": {
    "collapsed": false
   },
   "outputs": [],
   "source": [
    "import tweepy\n",
    "import time\n",
    "import pandas as pd\n",
    "from py2neo import Graph, Node, Relationship\n",
    "\n",
    "from igraph import Graph as IGraph\n",
    "import igraph\n",
    "\n",
    "from IPython.core.display import HTML\n",
    "from IPython.html.widgets import FloatProgress, Label\n",
    "from IPython.display import display\n",
    "\n",
    "import matplotlib.pyplot as plt\n",
    "import seaborn\n",
    "\n",
    "%matplotlib inline\n",
    "plt.rcParams['figure.figsize'] = (15, 8)\n",
    "\n",
    "\n",
    "OAUTH_KEY = ''\n",
    "OAUTH_SECRET = ''\n",
    "ACCESS_TOKEN = ''\n",
    "ACCESS_TOKEN_SECRET = ''\n",
    "\n",
    "NEO4J_USER = ''\n",
    "NEO4J_SECRET = ''"
   ]
  },
  {
   "cell_type": "markdown",
   "metadata": {},
   "source": [
    "## Select seeds for search networks\n",
    "I select small (1000-1500) sized bot network and pick 4 random members from it"
   ]
  },
  {
   "cell_type": "code",
   "execution_count": 24,
   "metadata": {
    "collapsed": true
   },
   "outputs": [],
   "source": [
    "seeds = ['volya_belousova', 'egor4rgurev', 'kirillfrolovdw', 'ilyazhuchhj']"
   ]
  },
  {
   "cell_type": "code",
   "execution_count": 25,
   "metadata": {
    "collapsed": true
   },
   "outputs": [],
   "source": [
    "auth = tweepy.OAuthHandler(OAUTH_KEY, OAUTH_SECRET)\n",
    "auth.set_access_token(ACCESS_TOKEN, ACCESS_TOKEN_SECRET)\n",
    "api = tweepy.API(auth, wait_on_rate_limit=True, wait_on_rate_limit_notify=True)\n",
    "graph = Graph(user=NEO4J_USER, password=NEO4J_SECRET)"
   ]
  },
  {
   "cell_type": "code",
   "execution_count": 26,
   "metadata": {
    "collapsed": true
   },
   "outputs": [],
   "source": [
    "def get_follwers_by_id(account_id):\n",
    "    ids = []\n",
    "    for page in tweepy.Cursor(api.followers_ids, user_id=account_id).pages():\n",
    "        print(\"FOLLOWERS: Next page for %s\" % account_id)\n",
    "        ids.extend(page)\n",
    "    return ids\n",
    "\n",
    "def get_friends_by_id(account_id):\n",
    "    ids = []\n",
    "    for page in tweepy.Cursor(api.friends_ids, user_id=account_id).pages():\n",
    "        print(\"FRIENDS: Next page for %s\" % account_id)\n",
    "        ids.extend(page)\n",
    "    return ids\n",
    "\n",
    "def get_friends(account):\n",
    "    ids = []\n",
    "    for page in tweepy.Cursor(api.friends_ids, screen_name=account).pages():\n",
    "        print(\"Next page for %s\" % account)\n",
    "        ids.extend(page)\n",
    "    return ids\n",
    "\n",
    "def chunks(l, n):\n",
    "    for i in range(0, len(l), n):\n",
    "        yield l[i:i + n]"
   ]
  },
  {
   "cell_type": "markdown",
   "metadata": {},
   "source": [
    "## Now search for friends of seed users"
   ]
  },
  {
   "cell_type": "code",
   "execution_count": 27,
   "metadata": {
    "collapsed": false
   },
   "outputs": [
    {
     "name": "stdout",
     "output_type": "stream",
     "text": [
      "Next page for volya_belousova\n",
      "Next page for egor4rgurev\n",
      "Next page for kirillfrolovdw\n",
      "Next page for ilyazhuchhj\n"
     ]
    }
   ],
   "source": [
    "friend_ids = {}\n",
    "for account in seeds:\n",
    "    friend_ids[account] = get_friends(account)\n",
    "    \n",
    "commons = {}\n",
    "for first in seeds:\n",
    "    for second in seeds:\n",
    "        if first != second:\n",
    "            commons[(first, second)] = list(set(friend_ids[first]) & set(friend_ids[second]))\n"
   ]
  },
  {
   "cell_type": "code",
   "execution_count": 28,
   "metadata": {
    "collapsed": true
   },
   "outputs": [],
   "source": [
    "all_users = friend_ids[seeds[0]]\n",
    "for name in seeds:\n",
    "    all_users = list(set(all_users) | set(friend_ids[name]))"
   ]
  },
  {
   "cell_type": "markdown",
   "metadata": {},
   "source": [
    "## Show common users in total and per seed user"
   ]
  },
  {
   "cell_type": "code",
   "execution_count": 29,
   "metadata": {
    "collapsed": false
   },
   "outputs": [
    {
     "data": {
      "text/plain": [
       "'Common users: 5499'"
      ]
     },
     "metadata": {},
     "output_type": "display_data"
    },
    {
     "data": {
      "text/html": [
       "<table width=100%><tr><td></td><td>volya_belousova</td><td>egor4rgurev</td><td>kirillfrolovdw</td><td>ilyazhuchhj</td></tr><tr><td>volya_belousova</td><td>x</td><td>1567</td><td>1508</td><td>1528</td></tr><tr><td>egor4rgurev</td><td>1567</td><td>x</td><td>1422</td><td>1409</td></tr><tr><td>kirillfrolovdw</td><td>1508</td><td>1422</td><td>x</td><td>1409</td></tr><tr><td>ilyazhuchhj</td><td>1528</td><td>1409</td><td>1409</td><td>x</td></tr></table>"
      ],
      "text/plain": [
       "<IPython.core.display.HTML object>"
      ]
     },
     "execution_count": 29,
     "metadata": {},
     "output_type": "execute_result"
    }
   ],
   "source": [
    "display(\"Common users: {0}\".format(len(all_users)))\n",
    "\n",
    "html = [\"<table width=100%>\"]\n",
    "html.append('<tr><td></td>')\n",
    "for name in seeds:\n",
    "    html.append('<td>{0}</td>'.format(name))\n",
    "html.append('</tr>')\n",
    "\n",
    "for first in seeds:\n",
    "    html.append('<tr><td>{0}</td>'.format(first))\n",
    "    for second in seeds:\n",
    "        if first != second:\n",
    "            html.append('<td>{0}</td>'.format(len(commons[(first,second)])))\n",
    "        else:\n",
    "            html.append('<td>x</td>')\n",
    "    html.append(\"</tr>\")\n",
    "html.append('</table>')\n",
    "\n",
    "HTML(''.join(html))"
   ]
  },
  {
   "cell_type": "markdown",
   "metadata": {},
   "source": [
    "## Now search and populate neo4j database"
   ]
  },
  {
   "cell_type": "code",
   "execution_count": 30,
   "metadata": {
    "collapsed": false
   },
   "outputs": [
    {
     "data": {
      "text/plain": [
       "<py2neo.database.Cursor at 0x109bb3f90>"
      ]
     },
     "execution_count": 30,
     "metadata": {},
     "output_type": "execute_result"
    }
   ],
   "source": [
    "graph.run(\"CREATE CONSTRAINT ON (u:UserRes) ASSERT u.id IS UNIQUE\")\n",
    "processed_users = []"
   ]
  },
  {
   "cell_type": "code",
   "execution_count": 31,
   "metadata": {
    "collapsed": false
   },
   "outputs": [
    {
     "name": "stdout",
     "output_type": "stream",
     "text": [
      "FOLLOWERS: Next page for 2826425701\n",
      "FRIENDS: Next page for 2826425701\n",
      ".... Cut ....",
      "FRIENDS: Next page for 2789670905\n",
      "100.0\n"
     ]
    }
   ],
   "source": [
    "for user_id in all_users:\n",
    "    if user_id not in processed_users:\n",
    "        user = Node(\"UserRes\", id=user_id)\n",
    "        graph.merge(user)\n",
    "        try:\n",
    "            for friend_id in get_follwers_by_id(user_id):\n",
    "                if friend_id in all_users:\n",
    "                    friend = Node(\"UserRes\", id=friend_id)\n",
    "                    graph.merge(friend)\n",
    "                    graph.merge(Relationship(friend, \"FRIEND_OF\", user))\n",
    "\n",
    "            for friend_id in get_friends_by_id(user_id):\n",
    "                if friend_id in all_users:\n",
    "                    friend = Node(\"UserRes\", id=friend_id)\n",
    "                    graph.merge(friend)\n",
    "                    graph.merge(Relationship(user, \"FRIEND_OF\", friend))\n",
    "            \n",
    "            \n",
    "                \n",
    "        except tweepy.TweepError:\n",
    "            print(\"User {0} has protected followers/friends\".format(user_id))\n",
    "\n",
    "        processed_users.append(user_id)\n",
    "        print(float(len(processed_users)) / float(len(all_users)) * 100.0)"
   ]
  },
  {
   "cell_type": "markdown",
   "metadata": {},
   "source": [
    "## Get all users from neo4j and build graph"
   ]
  },
  {
   "cell_type": "code",
   "execution_count": 32,
   "metadata": {
    "collapsed": false
   },
   "outputs": [
    {
     "data": {
      "text/plain": [
       "<igraph.Graph at 0x109116528>"
      ]
     },
     "execution_count": 32,
     "metadata": {},
     "output_type": "execute_result"
    }
   ],
   "source": [
    "query = \"\"\"\n",
    "MATCH (user1:UserRes)-[:FRIEND_OF]->(user2:UserRes),\n",
    "(user2:UserRes)-[:FRIEND_OF]->(user1)\n",
    "RETURN user1.id, user2.id\n",
    "\"\"\"\n",
    "\n",
    "data = graph.run(query)\n",
    "\n",
    "ig = IGraph.TupleList(data, weights=False)\n",
    "ig.es[\"width\"] = 1\n",
    "ig.simplify(combine_edges={ \"width\": \"sum\" })"
   ]
  },
  {
   "cell_type": "markdown",
   "metadata": {},
   "source": [
    "## Let's cluster graph and search for communities"
   ]
  },
  {
   "cell_type": "code",
   "execution_count": 33,
   "metadata": {
    "collapsed": true
   },
   "outputs": [],
   "source": [
    "clusters = IGraph.community_fastgreedy(ig)\n",
    "clusters = clusters.as_clustering()"
   ]
  },
  {
   "cell_type": "code",
   "execution_count": 34,
   "metadata": {
    "collapsed": false
   },
   "outputs": [
    {
     "name": "stdout",
     "output_type": "stream",
     "text": [
      "Found 11 clusters\n"
     ]
    }
   ],
   "source": [
    "print(\"Found %d clusters\" % len(clusters))"
   ]
  },
  {
   "cell_type": "markdown",
   "metadata": {},
   "source": [
    "## Let's make clusters dataframe"
   ]
  },
  {
   "cell_type": "code",
   "execution_count": 40,
   "metadata": {
    "collapsed": true
   },
   "outputs": [],
   "source": [
    "nodes = [{\"id\": node.index, \"name\": node[\"name\"]} for node in ig.vs]\n",
    "\n",
    "for node in nodes:\n",
    "    node[\"cluster\"] = clusters.membership[node[\"id\"]]\n",
    "    \n",
    "nodes_df = pd.DataFrame(nodes)\n",
    "edges = [{\"source\": x[0], \"target\": x[1]} for x in ig.get_edgelist()]\n",
    "edges_df = pd.DataFrame(edges)\n",
    "edges_counts = edges_df.groupby('source').count().reset_index().rename(columns = {'target': 'count'})"
   ]
  },
  {
   "cell_type": "markdown",
   "metadata": {},
   "source": [
    "## Let's look to all clusters closely"
   ]
  },
  {
   "cell_type": "code",
   "execution_count": 37,
   "metadata": {
    "collapsed": false
   },
   "outputs": [
    {
     "data": {
      "text/html": [
       "<div>\n",
       "<table border=\"1\" class=\"dataframe\">\n",
       "  <thead>\n",
       "    <tr style=\"text-align: right;\">\n",
       "      <th></th>\n",
       "      <th>id</th>\n",
       "      <th>name</th>\n",
       "    </tr>\n",
       "    <tr>\n",
       "      <th>cluster</th>\n",
       "      <th></th>\n",
       "      <th></th>\n",
       "    </tr>\n",
       "  </thead>\n",
       "  <tbody>\n",
       "    <tr>\n",
       "      <th>0</th>\n",
       "      <td>2634</td>\n",
       "      <td>2634</td>\n",
       "    </tr>\n",
       "    <tr>\n",
       "      <th>1</th>\n",
       "      <td>2231</td>\n",
       "      <td>2231</td>\n",
       "    </tr>\n",
       "    <tr>\n",
       "      <th>2</th>\n",
       "      <td>14</td>\n",
       "      <td>14</td>\n",
       "    </tr>\n",
       "    <tr>\n",
       "      <th>3</th>\n",
       "      <td>2</td>\n",
       "      <td>2</td>\n",
       "    </tr>\n",
       "    <tr>\n",
       "      <th>4</th>\n",
       "      <td>13</td>\n",
       "      <td>13</td>\n",
       "    </tr>\n",
       "    <tr>\n",
       "      <th>5</th>\n",
       "      <td>2</td>\n",
       "      <td>2</td>\n",
       "    </tr>\n",
       "    <tr>\n",
       "      <th>6</th>\n",
       "      <td>15</td>\n",
       "      <td>15</td>\n",
       "    </tr>\n",
       "    <tr>\n",
       "      <th>7</th>\n",
       "      <td>18</td>\n",
       "      <td>18</td>\n",
       "    </tr>\n",
       "    <tr>\n",
       "      <th>8</th>\n",
       "      <td>3</td>\n",
       "      <td>3</td>\n",
       "    </tr>\n",
       "    <tr>\n",
       "      <th>9</th>\n",
       "      <td>5</td>\n",
       "      <td>5</td>\n",
       "    </tr>\n",
       "    <tr>\n",
       "      <th>10</th>\n",
       "      <td>2</td>\n",
       "      <td>2</td>\n",
       "    </tr>\n",
       "  </tbody>\n",
       "</table>\n",
       "</div>"
      ],
      "text/plain": [
       "           id  name\n",
       "cluster            \n",
       "0        2634  2634\n",
       "1        2231  2231\n",
       "2          14    14\n",
       "3           2     2\n",
       "4          13    13\n",
       "5           2     2\n",
       "6          15    15\n",
       "7          18    18\n",
       "8           3     3\n",
       "9           5     5\n",
       "10          2     2"
      ]
     },
     "execution_count": 37,
     "metadata": {},
     "output_type": "execute_result"
    }
   ],
   "source": [
    "nodes_df.groupby('cluster').count()"
   ]
  },
  {
   "cell_type": "markdown",
   "metadata": {},
   "source": [
    "We have only two clusters with significant user count.\n",
    "Let's check first"
   ]
  },
  {
   "cell_type": "code",
   "execution_count": 50,
   "metadata": {
    "collapsed": false
   },
   "outputs": [],
   "source": [
    "first_cluster = nodes_df[nodes_df[\"cluster\"] == 0][[\"id\", \"name\"]]"
   ]
  },
  {
   "cell_type": "markdown",
   "metadata": {},
   "source": [
    "## Join edges to users"
   ]
  },
  {
   "cell_type": "code",
   "execution_count": 55,
   "metadata": {
    "collapsed": false
   },
   "outputs": [],
   "source": [
    "first_cluster_counts = first_cluster.set_index('id').join(edges_counts.set_index('source')).reset_index()"
   ]
  },
  {
   "cell_type": "code",
   "execution_count": 59,
   "metadata": {
    "collapsed": false
   },
   "outputs": [
    {
     "data": {
      "text/plain": [
       "<matplotlib.axes._subplots.AxesSubplot at 0x124d8ae90>"
      ]
     },
     "execution_count": 59,
     "metadata": {},
     "output_type": "execute_result"
    },
    {
     "data": {
      "image/png": "[encoded data removed]",
      "text/plain": [
       "<matplotlib.figure.Figure at 0x124d9c2d0>"
      ]
     },
     "metadata": {},
     "output_type": "display_data"
    }
   ],
   "source": [
    "first_cluster_counts[\"count\"].hist()"
   ]
  },
  {
   "cell_type": "markdown",
   "metadata": {},
   "source": [
    "## Let's look to all groups"
   ]
  },
  {
   "cell_type": "code",
   "execution_count": 73,
   "metadata": {
    "collapsed": false
   },
   "outputs": [
    {
     "name": "stdout",
     "output_type": "stream",
     "text": [
      "Users from 0 to 100 has 394\n"
     ]
    },
    {
     "data": {
      "text/html": [
       "<div>\n",
       "<table border=\"1\" class=\"dataframe\">\n",
       "  <thead>\n",
       "    <tr style=\"text-align: right;\">\n",
       "      <th></th>\n",
       "      <th>id</th>\n",
       "      <th>name</th>\n",
       "      <th>count</th>\n",
       "    </tr>\n",
       "  </thead>\n",
       "  <tbody>\n",
       "    <tr>\n",
       "      <th>1513</th>\n",
       "      <td>2468</td>\n",
       "      <td>2795927954</td>\n",
       "      <td>93.0</td>\n",
       "    </tr>\n",
       "    <tr>\n",
       "      <th>1631</th>\n",
       "      <td>2619</td>\n",
       "      <td>784969785838800896</td>\n",
       "      <td>82.0</td>\n",
       "    </tr>\n",
       "    <tr>\n",
       "      <th>1644</th>\n",
       "      <td>2649</td>\n",
       "      <td>4806528018</td>\n",
       "      <td>72.0</td>\n",
       "    </tr>\n",
       "    <tr>\n",
       "      <th>1646</th>\n",
       "      <td>2651</td>\n",
       "      <td>783974457169874944</td>\n",
       "      <td>97.0</td>\n",
       "    </tr>\n",
       "    <tr>\n",
       "      <th>1650</th>\n",
       "      <td>2659</td>\n",
       "      <td>1459802851</td>\n",
       "      <td>86.0</td>\n",
       "    </tr>\n",
       "    <tr>\n",
       "      <th>1653</th>\n",
       "      <td>2663</td>\n",
       "      <td>190408182</td>\n",
       "      <td>59.0</td>\n",
       "    </tr>\n",
       "    <tr>\n",
       "      <th>1661</th>\n",
       "      <td>2675</td>\n",
       "      <td>804313115739516928</td>\n",
       "      <td>32.0</td>\n",
       "    </tr>\n",
       "    <tr>\n",
       "      <th>1681</th>\n",
       "      <td>2695</td>\n",
       "      <td>1345411068</td>\n",
       "      <td>57.0</td>\n",
       "    </tr>\n",
       "    <tr>\n",
       "      <th>1684</th>\n",
       "      <td>2698</td>\n",
       "      <td>2195708516</td>\n",
       "      <td>78.0</td>\n",
       "    </tr>\n",
       "    <tr>\n",
       "      <th>1687</th>\n",
       "      <td>2701</td>\n",
       "      <td>700441793238851584</td>\n",
       "      <td>70.0</td>\n",
       "    </tr>\n",
       "  </tbody>\n",
       "</table>\n",
       "</div>"
      ],
      "text/plain": [
       "        id                name  count\n",
       "1513  2468          2795927954   93.0\n",
       "1631  2619  784969785838800896   82.0\n",
       "1644  2649          4806528018   72.0\n",
       "1646  2651  783974457169874944   97.0\n",
       "1650  2659          1459802851   86.0\n",
       "1653  2663           190408182   59.0\n",
       "1661  2675  804313115739516928   32.0\n",
       "1681  2695          1345411068   57.0\n",
       "1684  2698          2195708516   78.0\n",
       "1687  2701  700441793238851584   70.0"
      ]
     },
     "metadata": {},
     "output_type": "display_data"
    },
    {
     "name": "stdout",
     "output_type": "stream",
     "text": [
      "Users from 100 to 200 has 115\n"
     ]
    },
    {
     "data": {
      "text/html": [
       "<div>\n",
       "<table border=\"1\" class=\"dataframe\">\n",
       "  <thead>\n",
       "    <tr style=\"text-align: right;\">\n",
       "      <th></th>\n",
       "      <th>id</th>\n",
       "      <th>name</th>\n",
       "      <th>count</th>\n",
       "    </tr>\n",
       "  </thead>\n",
       "  <tbody>\n",
       "    <tr>\n",
       "      <th>430</th>\n",
       "      <td>719</td>\n",
       "      <td>809324281461096448</td>\n",
       "      <td>108.0</td>\n",
       "    </tr>\n",
       "    <tr>\n",
       "      <th>801</th>\n",
       "      <td>1352</td>\n",
       "      <td>783197080466690048</td>\n",
       "      <td>178.0</td>\n",
       "    </tr>\n",
       "    <tr>\n",
       "      <th>814</th>\n",
       "      <td>1375</td>\n",
       "      <td>632063294</td>\n",
       "      <td>141.0</td>\n",
       "    </tr>\n",
       "    <tr>\n",
       "      <th>838</th>\n",
       "      <td>1412</td>\n",
       "      <td>790208690611781634</td>\n",
       "      <td>194.0</td>\n",
       "    </tr>\n",
       "    <tr>\n",
       "      <th>851</th>\n",
       "      <td>1435</td>\n",
       "      <td>740088273398333440</td>\n",
       "      <td>162.0</td>\n",
       "    </tr>\n",
       "    <tr>\n",
       "      <th>1451</th>\n",
       "      <td>2344</td>\n",
       "      <td>790224559370829825</td>\n",
       "      <td>197.0</td>\n",
       "    </tr>\n",
       "    <tr>\n",
       "      <th>1466</th>\n",
       "      <td>2360</td>\n",
       "      <td>2193723318</td>\n",
       "      <td>172.0</td>\n",
       "    </tr>\n",
       "    <tr>\n",
       "      <th>1589</th>\n",
       "      <td>2549</td>\n",
       "      <td>3205555245</td>\n",
       "      <td>170.0</td>\n",
       "    </tr>\n",
       "    <tr>\n",
       "      <th>1591</th>\n",
       "      <td>2564</td>\n",
       "      <td>758523584184713216</td>\n",
       "      <td>139.0</td>\n",
       "    </tr>\n",
       "    <tr>\n",
       "      <th>1606</th>\n",
       "      <td>2586</td>\n",
       "      <td>20733757</td>\n",
       "      <td>103.0</td>\n",
       "    </tr>\n",
       "  </tbody>\n",
       "</table>\n",
       "</div>"
      ],
      "text/plain": [
       "        id                name  count\n",
       "430    719  809324281461096448  108.0\n",
       "801   1352  783197080466690048  178.0\n",
       "814   1375           632063294  141.0\n",
       "838   1412  790208690611781634  194.0\n",
       "851   1435  740088273398333440  162.0\n",
       "1451  2344  790224559370829825  197.0\n",
       "1466  2360          2193723318  172.0\n",
       "1589  2549          3205555245  170.0\n",
       "1591  2564  758523584184713216  139.0\n",
       "1606  2586            20733757  103.0"
      ]
     },
     "metadata": {},
     "output_type": "display_data"
    },
    {
     "name": "stdout",
     "output_type": "stream",
     "text": [
      "Users from 200 to 300 has 109\n"
     ]
    },
    {
     "data": {
      "text/html": [
       "<div>\n",
       "<table border=\"1\" class=\"dataframe\">\n",
       "  <thead>\n",
       "    <tr style=\"text-align: right;\">\n",
       "      <th></th>\n",
       "      <th>id</th>\n",
       "      <th>name</th>\n",
       "      <th>count</th>\n",
       "    </tr>\n",
       "  </thead>\n",
       "  <tbody>\n",
       "    <tr>\n",
       "      <th>245</th>\n",
       "      <td>391</td>\n",
       "      <td>822434231947317248</td>\n",
       "      <td>287.0</td>\n",
       "    </tr>\n",
       "    <tr>\n",
       "      <th>520</th>\n",
       "      <td>868</td>\n",
       "      <td>2970884728</td>\n",
       "      <td>297.0</td>\n",
       "    </tr>\n",
       "    <tr>\n",
       "      <th>550</th>\n",
       "      <td>911</td>\n",
       "      <td>1601673594</td>\n",
       "      <td>272.0</td>\n",
       "    </tr>\n",
       "    <tr>\n",
       "      <th>813</th>\n",
       "      <td>1374</td>\n",
       "      <td>2326512966</td>\n",
       "      <td>271.0</td>\n",
       "    </tr>\n",
       "    <tr>\n",
       "      <th>828</th>\n",
       "      <td>1396</td>\n",
       "      <td>3276538915</td>\n",
       "      <td>227.0</td>\n",
       "    </tr>\n",
       "    <tr>\n",
       "      <th>833</th>\n",
       "      <td>1403</td>\n",
       "      <td>805565471114133504</td>\n",
       "      <td>272.0</td>\n",
       "    </tr>\n",
       "    <tr>\n",
       "      <th>836</th>\n",
       "      <td>1410</td>\n",
       "      <td>635372371</td>\n",
       "      <td>253.0</td>\n",
       "    </tr>\n",
       "    <tr>\n",
       "      <th>1269</th>\n",
       "      <td>2019</td>\n",
       "      <td>159071440</td>\n",
       "      <td>288.0</td>\n",
       "    </tr>\n",
       "    <tr>\n",
       "      <th>1409</th>\n",
       "      <td>2282</td>\n",
       "      <td>503640860</td>\n",
       "      <td>238.0</td>\n",
       "    </tr>\n",
       "    <tr>\n",
       "      <th>1420</th>\n",
       "      <td>2296</td>\n",
       "      <td>3083639368</td>\n",
       "      <td>284.0</td>\n",
       "    </tr>\n",
       "  </tbody>\n",
       "</table>\n",
       "</div>"
      ],
      "text/plain": [
       "        id                name  count\n",
       "245    391  822434231947317248  287.0\n",
       "520    868          2970884728  297.0\n",
       "550    911          1601673594  272.0\n",
       "813   1374          2326512966  271.0\n",
       "828   1396          3276538915  227.0\n",
       "833   1403  805565471114133504  272.0\n",
       "836   1410           635372371  253.0\n",
       "1269  2019           159071440  288.0\n",
       "1409  2282           503640860  238.0\n",
       "1420  2296          3083639368  284.0"
      ]
     },
     "metadata": {},
     "output_type": "display_data"
    },
    {
     "name": "stdout",
     "output_type": "stream",
     "text": [
      "Users from 300 to 400 has 127\n"
     ]
    },
    {
     "data": {
      "text/html": [
       "<div>\n",
       "<table border=\"1\" class=\"dataframe\">\n",
       "  <thead>\n",
       "    <tr style=\"text-align: right;\">\n",
       "      <th></th>\n",
       "      <th>id</th>\n",
       "      <th>name</th>\n",
       "      <th>count</th>\n",
       "    </tr>\n",
       "  </thead>\n",
       "  <tbody>\n",
       "    <tr>\n",
       "      <th>571</th>\n",
       "      <td>949</td>\n",
       "      <td>788773483312451584</td>\n",
       "      <td>343.0</td>\n",
       "    </tr>\n",
       "    <tr>\n",
       "      <th>738</th>\n",
       "      <td>1247</td>\n",
       "      <td>604261155</td>\n",
       "      <td>338.0</td>\n",
       "    </tr>\n",
       "    <tr>\n",
       "      <th>1140</th>\n",
       "      <td>1828</td>\n",
       "      <td>788927524034183168</td>\n",
       "      <td>314.0</td>\n",
       "    </tr>\n",
       "    <tr>\n",
       "      <th>1193</th>\n",
       "      <td>1887</td>\n",
       "      <td>799328732729249792</td>\n",
       "      <td>322.0</td>\n",
       "    </tr>\n",
       "    <tr>\n",
       "      <th>1196</th>\n",
       "      <td>1890</td>\n",
       "      <td>1341840876</td>\n",
       "      <td>337.0</td>\n",
       "    </tr>\n",
       "    <tr>\n",
       "      <th>1198</th>\n",
       "      <td>1892</td>\n",
       "      <td>392047244</td>\n",
       "      <td>344.0</td>\n",
       "    </tr>\n",
       "    <tr>\n",
       "      <th>1201</th>\n",
       "      <td>1895</td>\n",
       "      <td>3015134789</td>\n",
       "      <td>353.0</td>\n",
       "    </tr>\n",
       "    <tr>\n",
       "      <th>1255</th>\n",
       "      <td>1988</td>\n",
       "      <td>788816863262310400</td>\n",
       "      <td>399.0</td>\n",
       "    </tr>\n",
       "    <tr>\n",
       "      <th>1333</th>\n",
       "      <td>2175</td>\n",
       "      <td>198283355</td>\n",
       "      <td>383.0</td>\n",
       "    </tr>\n",
       "    <tr>\n",
       "      <th>1339</th>\n",
       "      <td>2181</td>\n",
       "      <td>789040374912286720</td>\n",
       "      <td>398.0</td>\n",
       "    </tr>\n",
       "  </tbody>\n",
       "</table>\n",
       "</div>"
      ],
      "text/plain": [
       "        id                name  count\n",
       "571    949  788773483312451584  343.0\n",
       "738   1247           604261155  338.0\n",
       "1140  1828  788927524034183168  314.0\n",
       "1193  1887  799328732729249792  322.0\n",
       "1196  1890          1341840876  337.0\n",
       "1198  1892           392047244  344.0\n",
       "1201  1895          3015134789  353.0\n",
       "1255  1988  788816863262310400  399.0\n",
       "1333  2175           198283355  383.0\n",
       "1339  2181  789040374912286720  398.0"
      ]
     },
     "metadata": {},
     "output_type": "display_data"
    },
    {
     "name": "stdout",
     "output_type": "stream",
     "text": [
      "Users from 400 to 500 has 113\n"
     ]
    },
    {
     "data": {
      "text/html": [
       "<div>\n",
       "<table border=\"1\" class=\"dataframe\">\n",
       "  <thead>\n",
       "    <tr style=\"text-align: right;\">\n",
       "      <th></th>\n",
       "      <th>id</th>\n",
       "      <th>name</th>\n",
       "      <th>count</th>\n",
       "    </tr>\n",
       "  </thead>\n",
       "  <tbody>\n",
       "    <tr>\n",
       "      <th>542</th>\n",
       "      <td>901</td>\n",
       "      <td>929372431</td>\n",
       "      <td>448.0</td>\n",
       "    </tr>\n",
       "    <tr>\n",
       "      <th>772</th>\n",
       "      <td>1297</td>\n",
       "      <td>791532800268705792</td>\n",
       "      <td>412.0</td>\n",
       "    </tr>\n",
       "    <tr>\n",
       "      <th>798</th>\n",
       "      <td>1347</td>\n",
       "      <td>750847710</td>\n",
       "      <td>427.0</td>\n",
       "    </tr>\n",
       "    <tr>\n",
       "      <th>992</th>\n",
       "      <td>1592</td>\n",
       "      <td>790629135840317440</td>\n",
       "      <td>409.0</td>\n",
       "    </tr>\n",
       "    <tr>\n",
       "      <th>998</th>\n",
       "      <td>1598</td>\n",
       "      <td>788956110007009280</td>\n",
       "      <td>455.0</td>\n",
       "    </tr>\n",
       "    <tr>\n",
       "      <th>1195</th>\n",
       "      <td>1889</td>\n",
       "      <td>4019170883</td>\n",
       "      <td>497.0</td>\n",
       "    </tr>\n",
       "    <tr>\n",
       "      <th>1197</th>\n",
       "      <td>1891</td>\n",
       "      <td>703139084496084993</td>\n",
       "      <td>424.0</td>\n",
       "    </tr>\n",
       "    <tr>\n",
       "      <th>1202</th>\n",
       "      <td>1896</td>\n",
       "      <td>2284508448</td>\n",
       "      <td>432.0</td>\n",
       "    </tr>\n",
       "    <tr>\n",
       "      <th>1203</th>\n",
       "      <td>1897</td>\n",
       "      <td>109817109</td>\n",
       "      <td>450.0</td>\n",
       "    </tr>\n",
       "    <tr>\n",
       "      <th>1226</th>\n",
       "      <td>1921</td>\n",
       "      <td>789309188161888256</td>\n",
       "      <td>476.0</td>\n",
       "    </tr>\n",
       "  </tbody>\n",
       "</table>\n",
       "</div>"
      ],
      "text/plain": [
       "        id                name  count\n",
       "542    901           929372431  448.0\n",
       "772   1297  791532800268705792  412.0\n",
       "798   1347           750847710  427.0\n",
       "992   1592  790629135840317440  409.0\n",
       "998   1598  788956110007009280  455.0\n",
       "1195  1889          4019170883  497.0\n",
       "1197  1891  703139084496084993  424.0\n",
       "1202  1896          2284508448  432.0\n",
       "1203  1897           109817109  450.0\n",
       "1226  1921  789309188161888256  476.0"
      ]
     },
     "metadata": {},
     "output_type": "display_data"
    },
    {
     "name": "stdout",
     "output_type": "stream",
     "text": [
      "Users from 500 to 600 has 94\n"
     ]
    },
    {
     "data": {
      "text/html": [
       "<div>\n",
       "<table border=\"1\" class=\"dataframe\">\n",
       "  <thead>\n",
       "    <tr style=\"text-align: right;\">\n",
       "      <th></th>\n",
       "      <th>id</th>\n",
       "      <th>name</th>\n",
       "      <th>count</th>\n",
       "    </tr>\n",
       "  </thead>\n",
       "  <tbody>\n",
       "    <tr>\n",
       "      <th>55</th>\n",
       "      <td>80</td>\n",
       "      <td>785862195846545408</td>\n",
       "      <td>546.0</td>\n",
       "    </tr>\n",
       "    <tr>\n",
       "      <th>106</th>\n",
       "      <td>173</td>\n",
       "      <td>125319468</td>\n",
       "      <td>587.0</td>\n",
       "    </tr>\n",
       "    <tr>\n",
       "      <th>213</th>\n",
       "      <td>338</td>\n",
       "      <td>229012262</td>\n",
       "      <td>510.0</td>\n",
       "    </tr>\n",
       "    <tr>\n",
       "      <th>533</th>\n",
       "      <td>887</td>\n",
       "      <td>788929596209111040</td>\n",
       "      <td>537.0</td>\n",
       "    </tr>\n",
       "    <tr>\n",
       "      <th>761</th>\n",
       "      <td>1284</td>\n",
       "      <td>1445224854</td>\n",
       "      <td>547.0</td>\n",
       "    </tr>\n",
       "    <tr>\n",
       "      <th>922</th>\n",
       "      <td>1522</td>\n",
       "      <td>790617151493271554</td>\n",
       "      <td>506.0</td>\n",
       "    </tr>\n",
       "    <tr>\n",
       "      <th>1194</th>\n",
       "      <td>1888</td>\n",
       "      <td>532171645</td>\n",
       "      <td>511.0</td>\n",
       "    </tr>\n",
       "    <tr>\n",
       "      <th>1200</th>\n",
       "      <td>1894</td>\n",
       "      <td>377245304</td>\n",
       "      <td>564.0</td>\n",
       "    </tr>\n",
       "    <tr>\n",
       "      <th>1212</th>\n",
       "      <td>1907</td>\n",
       "      <td>789150314498756609</td>\n",
       "      <td>516.0</td>\n",
       "    </tr>\n",
       "    <tr>\n",
       "      <th>1231</th>\n",
       "      <td>1926</td>\n",
       "      <td>800770999272673280</td>\n",
       "      <td>509.0</td>\n",
       "    </tr>\n",
       "  </tbody>\n",
       "</table>\n",
       "</div>"
      ],
      "text/plain": [
       "        id                name  count\n",
       "55      80  785862195846545408  546.0\n",
       "106    173           125319468  587.0\n",
       "213    338           229012262  510.0\n",
       "533    887  788929596209111040  537.0\n",
       "761   1284          1445224854  547.0\n",
       "922   1522  790617151493271554  506.0\n",
       "1194  1888           532171645  511.0\n",
       "1200  1894           377245304  564.0\n",
       "1212  1907  789150314498756609  516.0\n",
       "1231  1926  800770999272673280  509.0"
      ]
     },
     "metadata": {},
     "output_type": "display_data"
    },
    {
     "name": "stdout",
     "output_type": "stream",
     "text": [
      "Users from 600 to 700 has 75\n"
     ]
    },
    {
     "data": {
      "text/html": [
       "<div>\n",
       "<table border=\"1\" class=\"dataframe\">\n",
       "  <thead>\n",
       "    <tr style=\"text-align: right;\">\n",
       "      <th></th>\n",
       "      <th>id</th>\n",
       "      <th>name</th>\n",
       "      <th>count</th>\n",
       "    </tr>\n",
       "  </thead>\n",
       "  <tbody>\n",
       "    <tr>\n",
       "      <th>614</th>\n",
       "      <td>1022</td>\n",
       "      <td>740974122163970048</td>\n",
       "      <td>675.0</td>\n",
       "    </tr>\n",
       "    <tr>\n",
       "      <th>742</th>\n",
       "      <td>1254</td>\n",
       "      <td>789318935732690944</td>\n",
       "      <td>664.0</td>\n",
       "    </tr>\n",
       "    <tr>\n",
       "      <th>845</th>\n",
       "      <td>1425</td>\n",
       "      <td>760011195751469056</td>\n",
       "      <td>623.0</td>\n",
       "    </tr>\n",
       "    <tr>\n",
       "      <th>1018</th>\n",
       "      <td>1628</td>\n",
       "      <td>789085669050159104</td>\n",
       "      <td>616.0</td>\n",
       "    </tr>\n",
       "    <tr>\n",
       "      <th>1020</th>\n",
       "      <td>1631</td>\n",
       "      <td>789113295596769281</td>\n",
       "      <td>621.0</td>\n",
       "    </tr>\n",
       "    <tr>\n",
       "      <th>1057</th>\n",
       "      <td>1690</td>\n",
       "      <td>790226555935006721</td>\n",
       "      <td>660.0</td>\n",
       "    </tr>\n",
       "    <tr>\n",
       "      <th>1134</th>\n",
       "      <td>1814</td>\n",
       "      <td>790205605776592896</td>\n",
       "      <td>663.0</td>\n",
       "    </tr>\n",
       "    <tr>\n",
       "      <th>1176</th>\n",
       "      <td>1865</td>\n",
       "      <td>788762432332267520</td>\n",
       "      <td>690.0</td>\n",
       "    </tr>\n",
       "    <tr>\n",
       "      <th>1180</th>\n",
       "      <td>1869</td>\n",
       "      <td>788942325145796608</td>\n",
       "      <td>667.0</td>\n",
       "    </tr>\n",
       "    <tr>\n",
       "      <th>1182</th>\n",
       "      <td>1871</td>\n",
       "      <td>789006874637012992</td>\n",
       "      <td>680.0</td>\n",
       "    </tr>\n",
       "  </tbody>\n",
       "</table>\n",
       "</div>"
      ],
      "text/plain": [
       "        id                name  count\n",
       "614   1022  740974122163970048  675.0\n",
       "742   1254  789318935732690944  664.0\n",
       "845   1425  760011195751469056  623.0\n",
       "1018  1628  789085669050159104  616.0\n",
       "1020  1631  789113295596769281  621.0\n",
       "1057  1690  790226555935006721  660.0\n",
       "1134  1814  790205605776592896  663.0\n",
       "1176  1865  788762432332267520  690.0\n",
       "1180  1869  788942325145796608  667.0\n",
       "1182  1871  789006874637012992  680.0"
      ]
     },
     "metadata": {},
     "output_type": "display_data"
    },
    {
     "name": "stdout",
     "output_type": "stream",
     "text": [
      "Users from 700 to 800 has 63\n"
     ]
    },
    {
     "data": {
      "text/html": [
       "<div>\n",
       "<table border=\"1\" class=\"dataframe\">\n",
       "  <thead>\n",
       "    <tr style=\"text-align: right;\">\n",
       "      <th></th>\n",
       "      <th>id</th>\n",
       "      <th>name</th>\n",
       "      <th>count</th>\n",
       "    </tr>\n",
       "  </thead>\n",
       "  <tbody>\n",
       "    <tr>\n",
       "      <th>333</th>\n",
       "      <td>542</td>\n",
       "      <td>974858659</td>\n",
       "      <td>799.0</td>\n",
       "    </tr>\n",
       "    <tr>\n",
       "      <th>378</th>\n",
       "      <td>622</td>\n",
       "      <td>577335162</td>\n",
       "      <td>746.0</td>\n",
       "    </tr>\n",
       "    <tr>\n",
       "      <th>714</th>\n",
       "      <td>1199</td>\n",
       "      <td>789025393768591360</td>\n",
       "      <td>777.0</td>\n",
       "    </tr>\n",
       "    <tr>\n",
       "      <th>733</th>\n",
       "      <td>1235</td>\n",
       "      <td>811461391718711297</td>\n",
       "      <td>753.0</td>\n",
       "    </tr>\n",
       "    <tr>\n",
       "      <th>773</th>\n",
       "      <td>1298</td>\n",
       "      <td>813678292335202304</td>\n",
       "      <td>712.0</td>\n",
       "    </tr>\n",
       "    <tr>\n",
       "      <th>863</th>\n",
       "      <td>1455</td>\n",
       "      <td>790211688717058048</td>\n",
       "      <td>793.0</td>\n",
       "    </tr>\n",
       "    <tr>\n",
       "      <th>997</th>\n",
       "      <td>1597</td>\n",
       "      <td>788442658972831744</td>\n",
       "      <td>773.0</td>\n",
       "    </tr>\n",
       "    <tr>\n",
       "      <th>1015</th>\n",
       "      <td>1625</td>\n",
       "      <td>788953586181017601</td>\n",
       "      <td>780.0</td>\n",
       "    </tr>\n",
       "    <tr>\n",
       "      <th>1023</th>\n",
       "      <td>1640</td>\n",
       "      <td>789379126625001472</td>\n",
       "      <td>780.0</td>\n",
       "    </tr>\n",
       "    <tr>\n",
       "      <th>1025</th>\n",
       "      <td>1643</td>\n",
       "      <td>789515225083117568</td>\n",
       "      <td>773.0</td>\n",
       "    </tr>\n",
       "  </tbody>\n",
       "</table>\n",
       "</div>"
      ],
      "text/plain": [
       "        id                name  count\n",
       "333    542           974858659  799.0\n",
       "378    622           577335162  746.0\n",
       "714   1199  789025393768591360  777.0\n",
       "733   1235  811461391718711297  753.0\n",
       "773   1298  813678292335202304  712.0\n",
       "863   1455  790211688717058048  793.0\n",
       "997   1597  788442658972831744  773.0\n",
       "1015  1625  788953586181017601  780.0\n",
       "1023  1640  789379126625001472  780.0\n",
       "1025  1643  789515225083117568  773.0"
      ]
     },
     "metadata": {},
     "output_type": "display_data"
    },
    {
     "name": "stdout",
     "output_type": "stream",
     "text": [
      "Users from 800 to 900 has 73\n"
     ]
    },
    {
     "data": {
      "text/html": [
       "<div>\n",
       "<table border=\"1\" class=\"dataframe\">\n",
       "  <thead>\n",
       "    <tr style=\"text-align: right;\">\n",
       "      <th></th>\n",
       "      <th>id</th>\n",
       "      <th>name</th>\n",
       "      <th>count</th>\n",
       "    </tr>\n",
       "  </thead>\n",
       "  <tbody>\n",
       "    <tr>\n",
       "      <th>1</th>\n",
       "      <td>1</td>\n",
       "      <td>796426024238116866</td>\n",
       "      <td>835.0</td>\n",
       "    </tr>\n",
       "    <tr>\n",
       "      <th>45</th>\n",
       "      <td>67</td>\n",
       "      <td>783584574186123265</td>\n",
       "      <td>841.0</td>\n",
       "    </tr>\n",
       "    <tr>\n",
       "      <th>181</th>\n",
       "      <td>294</td>\n",
       "      <td>538522822</td>\n",
       "      <td>893.0</td>\n",
       "    </tr>\n",
       "    <tr>\n",
       "      <th>280</th>\n",
       "      <td>448</td>\n",
       "      <td>2396663347</td>\n",
       "      <td>868.0</td>\n",
       "    </tr>\n",
       "    <tr>\n",
       "      <th>334</th>\n",
       "      <td>548</td>\n",
       "      <td>515893594</td>\n",
       "      <td>842.0</td>\n",
       "    </tr>\n",
       "    <tr>\n",
       "      <th>390</th>\n",
       "      <td>642</td>\n",
       "      <td>570465479</td>\n",
       "      <td>883.0</td>\n",
       "    </tr>\n",
       "    <tr>\n",
       "      <th>403</th>\n",
       "      <td>666</td>\n",
       "      <td>101737099</td>\n",
       "      <td>894.0</td>\n",
       "    </tr>\n",
       "    <tr>\n",
       "      <th>510</th>\n",
       "      <td>845</td>\n",
       "      <td>788970609309061120</td>\n",
       "      <td>891.0</td>\n",
       "    </tr>\n",
       "    <tr>\n",
       "      <th>621</th>\n",
       "      <td>1038</td>\n",
       "      <td>788932279179542528</td>\n",
       "      <td>870.0</td>\n",
       "    </tr>\n",
       "    <tr>\n",
       "      <th>850</th>\n",
       "      <td>1434</td>\n",
       "      <td>1890861601</td>\n",
       "      <td>828.0</td>\n",
       "    </tr>\n",
       "  </tbody>\n",
       "</table>\n",
       "</div>"
      ],
      "text/plain": [
       "       id                name  count\n",
       "1       1  796426024238116866  835.0\n",
       "45     67  783584574186123265  841.0\n",
       "181   294           538522822  893.0\n",
       "280   448          2396663347  868.0\n",
       "334   548           515893594  842.0\n",
       "390   642           570465479  883.0\n",
       "403   666           101737099  894.0\n",
       "510   845  788970609309061120  891.0\n",
       "621  1038  788932279179542528  870.0\n",
       "850  1434          1890861601  828.0"
      ]
     },
     "metadata": {},
     "output_type": "display_data"
    },
    {
     "name": "stdout",
     "output_type": "stream",
     "text": [
      "Users from 900 to 1000 has 82\n"
     ]
    },
    {
     "data": {
      "text/html": [
       "<div>\n",
       "<table border=\"1\" class=\"dataframe\">\n",
       "  <thead>\n",
       "    <tr style=\"text-align: right;\">\n",
       "      <th></th>\n",
       "      <th>id</th>\n",
       "      <th>name</th>\n",
       "      <th>count</th>\n",
       "    </tr>\n",
       "  </thead>\n",
       "  <tbody>\n",
       "    <tr>\n",
       "      <th>393</th>\n",
       "      <td>646</td>\n",
       "      <td>789329630503268352</td>\n",
       "      <td>974.0</td>\n",
       "    </tr>\n",
       "    <tr>\n",
       "      <th>489</th>\n",
       "      <td>811</td>\n",
       "      <td>377461268</td>\n",
       "      <td>903.0</td>\n",
       "    </tr>\n",
       "    <tr>\n",
       "      <th>513</th>\n",
       "      <td>854</td>\n",
       "      <td>4725791481</td>\n",
       "      <td>940.0</td>\n",
       "    </tr>\n",
       "    <tr>\n",
       "      <th>525</th>\n",
       "      <td>874</td>\n",
       "      <td>789029530144997376</td>\n",
       "      <td>912.0</td>\n",
       "    </tr>\n",
       "    <tr>\n",
       "      <th>708</th>\n",
       "      <td>1191</td>\n",
       "      <td>103353759</td>\n",
       "      <td>935.0</td>\n",
       "    </tr>\n",
       "    <tr>\n",
       "      <th>720</th>\n",
       "      <td>1210</td>\n",
       "      <td>4725935361</td>\n",
       "      <td>983.0</td>\n",
       "    </tr>\n",
       "    <tr>\n",
       "      <th>725</th>\n",
       "      <td>1219</td>\n",
       "      <td>391269540</td>\n",
       "      <td>982.0</td>\n",
       "    </tr>\n",
       "    <tr>\n",
       "      <th>765</th>\n",
       "      <td>1289</td>\n",
       "      <td>788765457654378496</td>\n",
       "      <td>974.0</td>\n",
       "    </tr>\n",
       "    <tr>\n",
       "      <th>831</th>\n",
       "      <td>1399</td>\n",
       "      <td>788772860915490816</td>\n",
       "      <td>977.0</td>\n",
       "    </tr>\n",
       "    <tr>\n",
       "      <th>834</th>\n",
       "      <td>1408</td>\n",
       "      <td>789512015496749057</td>\n",
       "      <td>983.0</td>\n",
       "    </tr>\n",
       "  </tbody>\n",
       "</table>\n",
       "</div>"
      ],
      "text/plain": [
       "       id                name  count\n",
       "393   646  789329630503268352  974.0\n",
       "489   811           377461268  903.0\n",
       "513   854          4725791481  940.0\n",
       "525   874  789029530144997376  912.0\n",
       "708  1191           103353759  935.0\n",
       "720  1210          4725935361  983.0\n",
       "725  1219           391269540  982.0\n",
       "765  1289  788765457654378496  974.0\n",
       "831  1399  788772860915490816  977.0\n",
       "834  1408  789512015496749057  983.0"
      ]
     },
     "metadata": {},
     "output_type": "display_data"
    },
    {
     "name": "stdout",
     "output_type": "stream",
     "text": [
      "Users from 1000 to 1100 has 135\n"
     ]
    },
    {
     "data": {
      "text/html": [
       "<div>\n",
       "<table border=\"1\" class=\"dataframe\">\n",
       "  <thead>\n",
       "    <tr style=\"text-align: right;\">\n",
       "      <th></th>\n",
       "      <th>id</th>\n",
       "      <th>name</th>\n",
       "      <th>count</th>\n",
       "    </tr>\n",
       "  </thead>\n",
       "  <tbody>\n",
       "    <tr>\n",
       "      <th>67</th>\n",
       "      <td>98</td>\n",
       "      <td>822148583747125252</td>\n",
       "      <td>1047.0</td>\n",
       "    </tr>\n",
       "    <tr>\n",
       "      <th>179</th>\n",
       "      <td>292</td>\n",
       "      <td>4724577143</td>\n",
       "      <td>1022.0</td>\n",
       "    </tr>\n",
       "    <tr>\n",
       "      <th>274</th>\n",
       "      <td>441</td>\n",
       "      <td>788961560106524672</td>\n",
       "      <td>1065.0</td>\n",
       "    </tr>\n",
       "    <tr>\n",
       "      <th>297</th>\n",
       "      <td>475</td>\n",
       "      <td>789129592271466496</td>\n",
       "      <td>1079.0</td>\n",
       "    </tr>\n",
       "    <tr>\n",
       "      <th>298</th>\n",
       "      <td>478</td>\n",
       "      <td>789122006331645952</td>\n",
       "      <td>1096.0</td>\n",
       "    </tr>\n",
       "    <tr>\n",
       "      <th>410</th>\n",
       "      <td>684</td>\n",
       "      <td>789030029145542656</td>\n",
       "      <td>1081.0</td>\n",
       "    </tr>\n",
       "    <tr>\n",
       "      <th>560</th>\n",
       "      <td>927</td>\n",
       "      <td>2399862787</td>\n",
       "      <td>1055.0</td>\n",
       "    </tr>\n",
       "    <tr>\n",
       "      <th>660</th>\n",
       "      <td>1108</td>\n",
       "      <td>806076531491672064</td>\n",
       "      <td>1099.0</td>\n",
       "    </tr>\n",
       "    <tr>\n",
       "      <th>687</th>\n",
       "      <td>1159</td>\n",
       "      <td>788652745825849344</td>\n",
       "      <td>1097.0</td>\n",
       "    </tr>\n",
       "    <tr>\n",
       "      <th>690</th>\n",
       "      <td>1164</td>\n",
       "      <td>788924704291774466</td>\n",
       "      <td>1048.0</td>\n",
       "    </tr>\n",
       "  </tbody>\n",
       "</table>\n",
       "</div>"
      ],
      "text/plain": [
       "       id                name   count\n",
       "67     98  822148583747125252  1047.0\n",
       "179   292          4724577143  1022.0\n",
       "274   441  788961560106524672  1065.0\n",
       "297   475  789129592271466496  1079.0\n",
       "298   478  789122006331645952  1096.0\n",
       "410   684  789030029145542656  1081.0\n",
       "560   927          2399862787  1055.0\n",
       "660  1108  806076531491672064  1099.0\n",
       "687  1159  788652745825849344  1097.0\n",
       "690  1164  788924704291774466  1048.0"
      ]
     },
     "metadata": {},
     "output_type": "display_data"
    },
    {
     "name": "stdout",
     "output_type": "stream",
     "text": [
      "Users from 1100 to 1200 has 103\n"
     ]
    },
    {
     "data": {
      "text/html": [
       "<div>\n",
       "<table border=\"1\" class=\"dataframe\">\n",
       "  <thead>\n",
       "    <tr style=\"text-align: right;\">\n",
       "      <th></th>\n",
       "      <th>id</th>\n",
       "      <th>name</th>\n",
       "      <th>count</th>\n",
       "    </tr>\n",
       "  </thead>\n",
       "  <tbody>\n",
       "    <tr>\n",
       "      <th>54</th>\n",
       "      <td>79</td>\n",
       "      <td>389332173</td>\n",
       "      <td>1130.0</td>\n",
       "    </tr>\n",
       "    <tr>\n",
       "      <th>84</th>\n",
       "      <td>126</td>\n",
       "      <td>789106859991035905</td>\n",
       "      <td>1181.0</td>\n",
       "    </tr>\n",
       "    <tr>\n",
       "      <th>86</th>\n",
       "      <td>130</td>\n",
       "      <td>789054563697487872</td>\n",
       "      <td>1195.0</td>\n",
       "    </tr>\n",
       "    <tr>\n",
       "      <th>143</th>\n",
       "      <td>232</td>\n",
       "      <td>789112369163173888</td>\n",
       "      <td>1121.0</td>\n",
       "    </tr>\n",
       "    <tr>\n",
       "      <th>231</th>\n",
       "      <td>372</td>\n",
       "      <td>482390443</td>\n",
       "      <td>1128.0</td>\n",
       "    </tr>\n",
       "    <tr>\n",
       "      <th>256</th>\n",
       "      <td>407</td>\n",
       "      <td>789094976739213313</td>\n",
       "      <td>1105.0</td>\n",
       "    </tr>\n",
       "    <tr>\n",
       "      <th>259</th>\n",
       "      <td>412</td>\n",
       "      <td>788818481571622912</td>\n",
       "      <td>1163.0</td>\n",
       "    </tr>\n",
       "    <tr>\n",
       "      <th>261</th>\n",
       "      <td>416</td>\n",
       "      <td>824194539569168384</td>\n",
       "      <td>1199.0</td>\n",
       "    </tr>\n",
       "    <tr>\n",
       "      <th>365</th>\n",
       "      <td>604</td>\n",
       "      <td>789010559270289408</td>\n",
       "      <td>1102.0</td>\n",
       "    </tr>\n",
       "    <tr>\n",
       "      <th>504</th>\n",
       "      <td>833</td>\n",
       "      <td>789482394944311296</td>\n",
       "      <td>1132.0</td>\n",
       "    </tr>\n",
       "  </tbody>\n",
       "</table>\n",
       "</div>"
      ],
      "text/plain": [
       "      id                name   count\n",
       "54    79           389332173  1130.0\n",
       "84   126  789106859991035905  1181.0\n",
       "86   130  789054563697487872  1195.0\n",
       "143  232  789112369163173888  1121.0\n",
       "231  372           482390443  1128.0\n",
       "256  407  789094976739213313  1105.0\n",
       "259  412  788818481571622912  1163.0\n",
       "261  416  824194539569168384  1199.0\n",
       "365  604  789010559270289408  1102.0\n",
       "504  833  789482394944311296  1132.0"
      ]
     },
     "metadata": {},
     "output_type": "display_data"
    },
    {
     "name": "stdout",
     "output_type": "stream",
     "text": [
      "Users from 1200 to 1300 has 102\n"
     ]
    },
    {
     "data": {
      "text/html": [
       "<div>\n",
       "<table border=\"1\" class=\"dataframe\">\n",
       "  <thead>\n",
       "    <tr style=\"text-align: right;\">\n",
       "      <th></th>\n",
       "      <th>id</th>\n",
       "      <th>name</th>\n",
       "      <th>count</th>\n",
       "    </tr>\n",
       "  </thead>\n",
       "  <tbody>\n",
       "    <tr>\n",
       "      <th>98</th>\n",
       "      <td>152</td>\n",
       "      <td>816597605065093121</td>\n",
       "      <td>1294.0</td>\n",
       "    </tr>\n",
       "    <tr>\n",
       "      <th>137</th>\n",
       "      <td>219</td>\n",
       "      <td>789107117147820033</td>\n",
       "      <td>1256.0</td>\n",
       "    </tr>\n",
       "    <tr>\n",
       "      <th>178</th>\n",
       "      <td>291</td>\n",
       "      <td>788824481972228096</td>\n",
       "      <td>1223.0</td>\n",
       "    </tr>\n",
       "    <tr>\n",
       "      <th>196</th>\n",
       "      <td>314</td>\n",
       "      <td>789078655188303872</td>\n",
       "      <td>1205.0</td>\n",
       "    </tr>\n",
       "    <tr>\n",
       "      <th>253</th>\n",
       "      <td>402</td>\n",
       "      <td>788973385900494848</td>\n",
       "      <td>1285.0</td>\n",
       "    </tr>\n",
       "    <tr>\n",
       "      <th>416</th>\n",
       "      <td>698</td>\n",
       "      <td>788982820974755840</td>\n",
       "      <td>1283.0</td>\n",
       "    </tr>\n",
       "    <tr>\n",
       "      <th>427</th>\n",
       "      <td>715</td>\n",
       "      <td>788971861019398144</td>\n",
       "      <td>1274.0</td>\n",
       "    </tr>\n",
       "    <tr>\n",
       "      <th>437</th>\n",
       "      <td>727</td>\n",
       "      <td>788783590456881152</td>\n",
       "      <td>1279.0</td>\n",
       "    </tr>\n",
       "    <tr>\n",
       "      <th>459</th>\n",
       "      <td>766</td>\n",
       "      <td>788759714691710976</td>\n",
       "      <td>1286.0</td>\n",
       "    </tr>\n",
       "    <tr>\n",
       "      <th>466</th>\n",
       "      <td>778</td>\n",
       "      <td>789433058013261824</td>\n",
       "      <td>1270.0</td>\n",
       "    </tr>\n",
       "  </tbody>\n",
       "</table>\n",
       "</div>"
      ],
      "text/plain": [
       "      id                name   count\n",
       "98   152  816597605065093121  1294.0\n",
       "137  219  789107117147820033  1256.0\n",
       "178  291  788824481972228096  1223.0\n",
       "196  314  789078655188303872  1205.0\n",
       "253  402  788973385900494848  1285.0\n",
       "416  698  788982820974755840  1283.0\n",
       "427  715  788971861019398144  1274.0\n",
       "437  727  788783590456881152  1279.0\n",
       "459  766  788759714691710976  1286.0\n",
       "466  778  789433058013261824  1270.0"
      ]
     },
     "metadata": {},
     "output_type": "display_data"
    },
    {
     "name": "stdout",
     "output_type": "stream",
     "text": [
      "Users from 1300 to 1400 has 96\n"
     ]
    },
    {
     "data": {
      "text/html": [
       "<div>\n",
       "<table border=\"1\" class=\"dataframe\">\n",
       "  <thead>\n",
       "    <tr style=\"text-align: right;\">\n",
       "      <th></th>\n",
       "      <th>id</th>\n",
       "      <th>name</th>\n",
       "      <th>count</th>\n",
       "    </tr>\n",
       "  </thead>\n",
       "  <tbody>\n",
       "    <tr>\n",
       "      <th>83</th>\n",
       "      <td>125</td>\n",
       "      <td>788859751715266561</td>\n",
       "      <td>1329.0</td>\n",
       "    </tr>\n",
       "    <tr>\n",
       "      <th>271</th>\n",
       "      <td>438</td>\n",
       "      <td>788970211235991552</td>\n",
       "      <td>1390.0</td>\n",
       "    </tr>\n",
       "    <tr>\n",
       "      <th>320</th>\n",
       "      <td>512</td>\n",
       "      <td>788642572981854209</td>\n",
       "      <td>1327.0</td>\n",
       "    </tr>\n",
       "    <tr>\n",
       "      <th>326</th>\n",
       "      <td>528</td>\n",
       "      <td>788930687139188737</td>\n",
       "      <td>1387.0</td>\n",
       "    </tr>\n",
       "    <tr>\n",
       "      <th>339</th>\n",
       "      <td>557</td>\n",
       "      <td>788993003490861056</td>\n",
       "      <td>1360.0</td>\n",
       "    </tr>\n",
       "    <tr>\n",
       "      <th>357</th>\n",
       "      <td>592</td>\n",
       "      <td>788800865230544900</td>\n",
       "      <td>1337.0</td>\n",
       "    </tr>\n",
       "    <tr>\n",
       "      <th>369</th>\n",
       "      <td>609</td>\n",
       "      <td>790627391525773314</td>\n",
       "      <td>1341.0</td>\n",
       "    </tr>\n",
       "    <tr>\n",
       "      <th>371</th>\n",
       "      <td>611</td>\n",
       "      <td>790217109154435072</td>\n",
       "      <td>1386.0</td>\n",
       "    </tr>\n",
       "    <tr>\n",
       "      <th>386</th>\n",
       "      <td>634</td>\n",
       "      <td>788996208564002816</td>\n",
       "      <td>1327.0</td>\n",
       "    </tr>\n",
       "    <tr>\n",
       "      <th>391</th>\n",
       "      <td>643</td>\n",
       "      <td>788807183613984768</td>\n",
       "      <td>1385.0</td>\n",
       "    </tr>\n",
       "  </tbody>\n",
       "</table>\n",
       "</div>"
      ],
      "text/plain": [
       "      id                name   count\n",
       "83   125  788859751715266561  1329.0\n",
       "271  438  788970211235991552  1390.0\n",
       "320  512  788642572981854209  1327.0\n",
       "326  528  788930687139188737  1387.0\n",
       "339  557  788993003490861056  1360.0\n",
       "357  592  788800865230544900  1337.0\n",
       "369  609  790627391525773314  1341.0\n",
       "371  611  790217109154435072  1386.0\n",
       "386  634  788996208564002816  1327.0\n",
       "391  643  788807183613984768  1385.0"
      ]
     },
     "metadata": {},
     "output_type": "display_data"
    },
    {
     "name": "stdout",
     "output_type": "stream",
     "text": [
      "Users from 1400 to 1500 has 91\n"
     ]
    },
    {
     "data": {
      "text/html": [
       "<div>\n",
       "<table border=\"1\" class=\"dataframe\">\n",
       "  <thead>\n",
       "    <tr style=\"text-align: right;\">\n",
       "      <th></th>\n",
       "      <th>id</th>\n",
       "      <th>name</th>\n",
       "      <th>count</th>\n",
       "    </tr>\n",
       "  </thead>\n",
       "  <tbody>\n",
       "    <tr>\n",
       "      <th>220</th>\n",
       "      <td>349</td>\n",
       "      <td>788964725291905024</td>\n",
       "      <td>1478.0</td>\n",
       "    </tr>\n",
       "    <tr>\n",
       "      <th>248</th>\n",
       "      <td>396</td>\n",
       "      <td>790618798508412929</td>\n",
       "      <td>1452.0</td>\n",
       "    </tr>\n",
       "    <tr>\n",
       "      <th>275</th>\n",
       "      <td>442</td>\n",
       "      <td>788940753494048768</td>\n",
       "      <td>1469.0</td>\n",
       "    </tr>\n",
       "    <tr>\n",
       "      <th>288</th>\n",
       "      <td>463</td>\n",
       "      <td>788932282426003456</td>\n",
       "      <td>1452.0</td>\n",
       "    </tr>\n",
       "    <tr>\n",
       "      <th>289</th>\n",
       "      <td>464</td>\n",
       "      <td>788775030637391872</td>\n",
       "      <td>1482.0</td>\n",
       "    </tr>\n",
       "    <tr>\n",
       "      <th>292</th>\n",
       "      <td>468</td>\n",
       "      <td>789329874104250368</td>\n",
       "      <td>1434.0</td>\n",
       "    </tr>\n",
       "    <tr>\n",
       "      <th>303</th>\n",
       "      <td>484</td>\n",
       "      <td>788961370037444608</td>\n",
       "      <td>1498.0</td>\n",
       "    </tr>\n",
       "    <tr>\n",
       "      <th>324</th>\n",
       "      <td>519</td>\n",
       "      <td>789481918744129536</td>\n",
       "      <td>1410.0</td>\n",
       "    </tr>\n",
       "    <tr>\n",
       "      <th>325</th>\n",
       "      <td>521</td>\n",
       "      <td>790208018327691264</td>\n",
       "      <td>1499.0</td>\n",
       "    </tr>\n",
       "    <tr>\n",
       "      <th>329</th>\n",
       "      <td>531</td>\n",
       "      <td>788923405647175680</td>\n",
       "      <td>1466.0</td>\n",
       "    </tr>\n",
       "  </tbody>\n",
       "</table>\n",
       "</div>"
      ],
      "text/plain": [
       "      id                name   count\n",
       "220  349  788964725291905024  1478.0\n",
       "248  396  790618798508412929  1452.0\n",
       "275  442  788940753494048768  1469.0\n",
       "288  463  788932282426003456  1452.0\n",
       "289  464  788775030637391872  1482.0\n",
       "292  468  789329874104250368  1434.0\n",
       "303  484  788961370037444608  1498.0\n",
       "324  519  789481918744129536  1410.0\n",
       "325  521  790208018327691264  1499.0\n",
       "329  531  788923405647175680  1466.0"
      ]
     },
     "metadata": {},
     "output_type": "display_data"
    },
    {
     "name": "stdout",
     "output_type": "stream",
     "text": [
      "Users from 1500 to 1600 has 107\n"
     ]
    },
    {
     "data": {
      "text/html": [
       "<div>\n",
       "<table border=\"1\" class=\"dataframe\">\n",
       "  <thead>\n",
       "    <tr style=\"text-align: right;\">\n",
       "      <th></th>\n",
       "      <th>id</th>\n",
       "      <th>name</th>\n",
       "      <th>count</th>\n",
       "    </tr>\n",
       "  </thead>\n",
       "  <tbody>\n",
       "    <tr>\n",
       "      <th>34</th>\n",
       "      <td>53</td>\n",
       "      <td>789520202056732672</td>\n",
       "      <td>1589.0</td>\n",
       "    </tr>\n",
       "    <tr>\n",
       "      <th>48</th>\n",
       "      <td>71</td>\n",
       "      <td>788993796025491456</td>\n",
       "      <td>1572.0</td>\n",
       "    </tr>\n",
       "    <tr>\n",
       "      <th>88</th>\n",
       "      <td>138</td>\n",
       "      <td>790626149000998913</td>\n",
       "      <td>1534.0</td>\n",
       "    </tr>\n",
       "    <tr>\n",
       "      <th>89</th>\n",
       "      <td>139</td>\n",
       "      <td>788974814799290368</td>\n",
       "      <td>1538.0</td>\n",
       "    </tr>\n",
       "    <tr>\n",
       "      <th>96</th>\n",
       "      <td>149</td>\n",
       "      <td>788775716796129280</td>\n",
       "      <td>1511.0</td>\n",
       "    </tr>\n",
       "    <tr>\n",
       "      <th>134</th>\n",
       "      <td>212</td>\n",
       "      <td>790211464942460928</td>\n",
       "      <td>1529.0</td>\n",
       "    </tr>\n",
       "    <tr>\n",
       "      <th>153</th>\n",
       "      <td>253</td>\n",
       "      <td>789465960193355777</td>\n",
       "      <td>1569.0</td>\n",
       "    </tr>\n",
       "    <tr>\n",
       "      <th>154</th>\n",
       "      <td>255</td>\n",
       "      <td>788918539461726208</td>\n",
       "      <td>1578.0</td>\n",
       "    </tr>\n",
       "    <tr>\n",
       "      <th>163</th>\n",
       "      <td>266</td>\n",
       "      <td>788799469831815168</td>\n",
       "      <td>1503.0</td>\n",
       "    </tr>\n",
       "    <tr>\n",
       "      <th>180</th>\n",
       "      <td>293</td>\n",
       "      <td>790617338999603200</td>\n",
       "      <td>1548.0</td>\n",
       "    </tr>\n",
       "  </tbody>\n",
       "</table>\n",
       "</div>"
      ],
      "text/plain": [
       "      id                name   count\n",
       "34    53  789520202056732672  1589.0\n",
       "48    71  788993796025491456  1572.0\n",
       "88   138  790626149000998913  1534.0\n",
       "89   139  788974814799290368  1538.0\n",
       "96   149  788775716796129280  1511.0\n",
       "134  212  790211464942460928  1529.0\n",
       "153  253  789465960193355777  1569.0\n",
       "154  255  788918539461726208  1578.0\n",
       "163  266  788799469831815168  1503.0\n",
       "180  293  790617338999603200  1548.0"
      ]
     },
     "metadata": {},
     "output_type": "display_data"
    },
    {
     "name": "stdout",
     "output_type": "stream",
     "text": [
      "Users from 1600 to 1700 has 89\n"
     ]
    },
    {
     "data": {
      "text/html": [
       "<div>\n",
       "<table border=\"1\" class=\"dataframe\">\n",
       "  <thead>\n",
       "    <tr style=\"text-align: right;\">\n",
       "      <th></th>\n",
       "      <th>id</th>\n",
       "      <th>name</th>\n",
       "      <th>count</th>\n",
       "    </tr>\n",
       "  </thead>\n",
       "  <tbody>\n",
       "    <tr>\n",
       "      <th>15</th>\n",
       "      <td>26</td>\n",
       "      <td>790226695412445190</td>\n",
       "      <td>1615.0</td>\n",
       "    </tr>\n",
       "    <tr>\n",
       "      <th>28</th>\n",
       "      <td>45</td>\n",
       "      <td>790618191873581056</td>\n",
       "      <td>1627.0</td>\n",
       "    </tr>\n",
       "    <tr>\n",
       "      <th>53</th>\n",
       "      <td>78</td>\n",
       "      <td>789426293410373632</td>\n",
       "      <td>1655.0</td>\n",
       "    </tr>\n",
       "    <tr>\n",
       "      <th>76</th>\n",
       "      <td>115</td>\n",
       "      <td>790220705971535872</td>\n",
       "      <td>1653.0</td>\n",
       "    </tr>\n",
       "    <tr>\n",
       "      <th>79</th>\n",
       "      <td>118</td>\n",
       "      <td>788767516600524803</td>\n",
       "      <td>1685.0</td>\n",
       "    </tr>\n",
       "    <tr>\n",
       "      <th>111</th>\n",
       "      <td>180</td>\n",
       "      <td>3438934264</td>\n",
       "      <td>1638.0</td>\n",
       "    </tr>\n",
       "    <tr>\n",
       "      <th>116</th>\n",
       "      <td>187</td>\n",
       "      <td>789010785884332032</td>\n",
       "      <td>1695.0</td>\n",
       "    </tr>\n",
       "    <tr>\n",
       "      <th>126</th>\n",
       "      <td>202</td>\n",
       "      <td>788987798485360640</td>\n",
       "      <td>1693.0</td>\n",
       "    </tr>\n",
       "    <tr>\n",
       "      <th>132</th>\n",
       "      <td>210</td>\n",
       "      <td>788766556096430080</td>\n",
       "      <td>1681.0</td>\n",
       "    </tr>\n",
       "    <tr>\n",
       "      <th>141</th>\n",
       "      <td>225</td>\n",
       "      <td>788923566721040385</td>\n",
       "      <td>1632.0</td>\n",
       "    </tr>\n",
       "  </tbody>\n",
       "</table>\n",
       "</div>"
      ],
      "text/plain": [
       "      id                name   count\n",
       "15    26  790226695412445190  1615.0\n",
       "28    45  790618191873581056  1627.0\n",
       "53    78  789426293410373632  1655.0\n",
       "76   115  790220705971535872  1653.0\n",
       "79   118  788767516600524803  1685.0\n",
       "111  180          3438934264  1638.0\n",
       "116  187  789010785884332032  1695.0\n",
       "126  202  788987798485360640  1693.0\n",
       "132  210  788766556096430080  1681.0\n",
       "141  225  788923566721040385  1632.0"
      ]
     },
     "metadata": {},
     "output_type": "display_data"
    },
    {
     "name": "stdout",
     "output_type": "stream",
     "text": [
      "Users from 1700 to 1800 has 89\n"
     ]
    },
    {
     "data": {
      "text/html": [
       "<div>\n",
       "<table border=\"1\" class=\"dataframe\">\n",
       "  <thead>\n",
       "    <tr style=\"text-align: right;\">\n",
       "      <th></th>\n",
       "      <th>id</th>\n",
       "      <th>name</th>\n",
       "      <th>count</th>\n",
       "    </tr>\n",
       "  </thead>\n",
       "  <tbody>\n",
       "    <tr>\n",
       "      <th>13</th>\n",
       "      <td>24</td>\n",
       "      <td>790211657373016064</td>\n",
       "      <td>1797.0</td>\n",
       "    </tr>\n",
       "    <tr>\n",
       "      <th>18</th>\n",
       "      <td>29</td>\n",
       "      <td>789357583501029376</td>\n",
       "      <td>1744.0</td>\n",
       "    </tr>\n",
       "    <tr>\n",
       "      <th>19</th>\n",
       "      <td>31</td>\n",
       "      <td>788928807998787584</td>\n",
       "      <td>1788.0</td>\n",
       "    </tr>\n",
       "    <tr>\n",
       "      <th>32</th>\n",
       "      <td>50</td>\n",
       "      <td>788943181924724736</td>\n",
       "      <td>1720.0</td>\n",
       "    </tr>\n",
       "    <tr>\n",
       "      <th>57</th>\n",
       "      <td>83</td>\n",
       "      <td>789413739346878464</td>\n",
       "      <td>1704.0</td>\n",
       "    </tr>\n",
       "    <tr>\n",
       "      <th>66</th>\n",
       "      <td>95</td>\n",
       "      <td>790225277431545857</td>\n",
       "      <td>1747.0</td>\n",
       "    </tr>\n",
       "    <tr>\n",
       "      <th>69</th>\n",
       "      <td>103</td>\n",
       "      <td>788938558845386752</td>\n",
       "      <td>1757.0</td>\n",
       "    </tr>\n",
       "    <tr>\n",
       "      <th>78</th>\n",
       "      <td>117</td>\n",
       "      <td>788963337669337088</td>\n",
       "      <td>1799.0</td>\n",
       "    </tr>\n",
       "    <tr>\n",
       "      <th>91</th>\n",
       "      <td>141</td>\n",
       "      <td>788788187787325442</td>\n",
       "      <td>1781.0</td>\n",
       "    </tr>\n",
       "    <tr>\n",
       "      <th>93</th>\n",
       "      <td>146</td>\n",
       "      <td>788795571620446209</td>\n",
       "      <td>1717.0</td>\n",
       "    </tr>\n",
       "  </tbody>\n",
       "</table>\n",
       "</div>"
      ],
      "text/plain": [
       "     id                name   count\n",
       "13   24  790211657373016064  1797.0\n",
       "18   29  789357583501029376  1744.0\n",
       "19   31  788928807998787584  1788.0\n",
       "32   50  788943181924724736  1720.0\n",
       "57   83  789413739346878464  1704.0\n",
       "66   95  790225277431545857  1747.0\n",
       "69  103  788938558845386752  1757.0\n",
       "78  117  788963337669337088  1799.0\n",
       "91  141  788788187787325442  1781.0\n",
       "93  146  788795571620446209  1717.0"
      ]
     },
     "metadata": {},
     "output_type": "display_data"
    },
    {
     "name": "stdout",
     "output_type": "stream",
     "text": [
      "Users from 1800 to 1900 has 68\n"
     ]
    },
    {
     "data": {
      "text/html": [
       "<div>\n",
       "<table border=\"1\" class=\"dataframe\">\n",
       "  <thead>\n",
       "    <tr style=\"text-align: right;\">\n",
       "      <th></th>\n",
       "      <th>id</th>\n",
       "      <th>name</th>\n",
       "      <th>count</th>\n",
       "    </tr>\n",
       "  </thead>\n",
       "  <tbody>\n",
       "    <tr>\n",
       "      <th>0</th>\n",
       "      <td>0</td>\n",
       "      <td>790223237066129408</td>\n",
       "      <td>1885.0</td>\n",
       "    </tr>\n",
       "    <tr>\n",
       "      <th>3</th>\n",
       "      <td>6</td>\n",
       "      <td>789356444982382592</td>\n",
       "      <td>1866.0</td>\n",
       "    </tr>\n",
       "    <tr>\n",
       "      <th>4</th>\n",
       "      <td>7</td>\n",
       "      <td>788765922349682688</td>\n",
       "      <td>1810.0</td>\n",
       "    </tr>\n",
       "    <tr>\n",
       "      <th>6</th>\n",
       "      <td>9</td>\n",
       "      <td>790211627178221568</td>\n",
       "      <td>1877.0</td>\n",
       "    </tr>\n",
       "    <tr>\n",
       "      <th>11</th>\n",
       "      <td>21</td>\n",
       "      <td>788795994335051776</td>\n",
       "      <td>1846.0</td>\n",
       "    </tr>\n",
       "    <tr>\n",
       "      <th>16</th>\n",
       "      <td>27</td>\n",
       "      <td>788762768514117632</td>\n",
       "      <td>1873.0</td>\n",
       "    </tr>\n",
       "    <tr>\n",
       "      <th>24</th>\n",
       "      <td>37</td>\n",
       "      <td>788765752727785472</td>\n",
       "      <td>1807.0</td>\n",
       "    </tr>\n",
       "    <tr>\n",
       "      <th>26</th>\n",
       "      <td>43</td>\n",
       "      <td>788947182971940865</td>\n",
       "      <td>1860.0</td>\n",
       "    </tr>\n",
       "    <tr>\n",
       "      <th>29</th>\n",
       "      <td>46</td>\n",
       "      <td>789515019956477954</td>\n",
       "      <td>1860.0</td>\n",
       "    </tr>\n",
       "    <tr>\n",
       "      <th>31</th>\n",
       "      <td>48</td>\n",
       "      <td>788926486271131648</td>\n",
       "      <td>1824.0</td>\n",
       "    </tr>\n",
       "  </tbody>\n",
       "</table>\n",
       "</div>"
      ],
      "text/plain": [
       "    id                name   count\n",
       "0    0  790223237066129408  1885.0\n",
       "3    6  789356444982382592  1866.0\n",
       "4    7  788765922349682688  1810.0\n",
       "6    9  790211627178221568  1877.0\n",
       "11  21  788795994335051776  1846.0\n",
       "16  27  788762768514117632  1873.0\n",
       "24  37  788765752727785472  1807.0\n",
       "26  43  788947182971940865  1860.0\n",
       "29  46  789515019956477954  1860.0\n",
       "31  48  788926486271131648  1824.0"
      ]
     },
     "metadata": {},
     "output_type": "display_data"
    },
    {
     "name": "stdout",
     "output_type": "stream",
     "text": [
      "Users from 1900 to 2000 has 41\n"
     ]
    },
    {
     "data": {
      "text/html": [
       "<div>\n",
       "<table border=\"1\" class=\"dataframe\">\n",
       "  <thead>\n",
       "    <tr style=\"text-align: right;\">\n",
       "      <th></th>\n",
       "      <th>id</th>\n",
       "      <th>name</th>\n",
       "      <th>count</th>\n",
       "    </tr>\n",
       "  </thead>\n",
       "  <tbody>\n",
       "    <tr>\n",
       "      <th>5</th>\n",
       "      <td>8</td>\n",
       "      <td>788781798205624320</td>\n",
       "      <td>1927.0</td>\n",
       "    </tr>\n",
       "    <tr>\n",
       "      <th>7</th>\n",
       "      <td>10</td>\n",
       "      <td>788777122038939648</td>\n",
       "      <td>1940.0</td>\n",
       "    </tr>\n",
       "    <tr>\n",
       "      <th>9</th>\n",
       "      <td>18</td>\n",
       "      <td>788780939249844224</td>\n",
       "      <td>1953.0</td>\n",
       "    </tr>\n",
       "    <tr>\n",
       "      <th>12</th>\n",
       "      <td>23</td>\n",
       "      <td>788415407568945154</td>\n",
       "      <td>1980.0</td>\n",
       "    </tr>\n",
       "    <tr>\n",
       "      <th>14</th>\n",
       "      <td>25</td>\n",
       "      <td>788928799996055552</td>\n",
       "      <td>1907.0</td>\n",
       "    </tr>\n",
       "    <tr>\n",
       "      <th>22</th>\n",
       "      <td>34</td>\n",
       "      <td>788958670587650048</td>\n",
       "      <td>1952.0</td>\n",
       "    </tr>\n",
       "    <tr>\n",
       "      <th>25</th>\n",
       "      <td>42</td>\n",
       "      <td>789496515983052801</td>\n",
       "      <td>1974.0</td>\n",
       "    </tr>\n",
       "    <tr>\n",
       "      <th>36</th>\n",
       "      <td>55</td>\n",
       "      <td>788939290789150720</td>\n",
       "      <td>1995.0</td>\n",
       "    </tr>\n",
       "    <tr>\n",
       "      <th>41</th>\n",
       "      <td>61</td>\n",
       "      <td>788806190880948225</td>\n",
       "      <td>1945.0</td>\n",
       "    </tr>\n",
       "    <tr>\n",
       "      <th>50</th>\n",
       "      <td>73</td>\n",
       "      <td>790620218804625408</td>\n",
       "      <td>1903.0</td>\n",
       "    </tr>\n",
       "  </tbody>\n",
       "</table>\n",
       "</div>"
      ],
      "text/plain": [
       "    id                name   count\n",
       "5    8  788781798205624320  1927.0\n",
       "7   10  788777122038939648  1940.0\n",
       "9   18  788780939249844224  1953.0\n",
       "12  23  788415407568945154  1980.0\n",
       "14  25  788928799996055552  1907.0\n",
       "22  34  788958670587650048  1952.0\n",
       "25  42  789496515983052801  1974.0\n",
       "36  55  788939290789150720  1995.0\n",
       "41  61  788806190880948225  1945.0\n",
       "50  73  790620218804625408  1903.0"
      ]
     },
     "metadata": {},
     "output_type": "display_data"
    }
   ],
   "source": [
    "for group in range(20):\n",
    "    start = group * 100\n",
    "    stop = (group + 1) * 100\n",
    "    users_slice = first_cluster_counts[(first_cluster_counts[\"count\"] > start) & (first_cluster_counts[\"count\"] < stop)]\n",
    "    print(\"Users from %d to %d has %d\" %(start, stop, users_slice.count()[0]))\n",
    "    display(users_slice[:10])"
   ]
  },
  {
   "cell_type": "markdown",
   "metadata": {},
   "source": [
    "Looks like most bot accounts has followers/follows count from 1200 to 1900\n",
    "\n",
    "Let's filter it"
   ]
  },
  {
   "cell_type": "code",
   "execution_count": 74,
   "metadata": {
    "collapsed": true
   },
   "outputs": [],
   "source": [
    "filtered_bots = first_cluster_counts[(first_cluster_counts[\"count\"] > 1200) & (first_cluster_counts[\"count\"] < 1900)]"
   ]
  },
  {
   "cell_type": "code",
   "execution_count": 75,
   "metadata": {
    "collapsed": false
   },
   "outputs": [
    {
     "name": "stdout",
     "output_type": "stream",
     "text": [
      "We found 646 bots in first approximation\n"
     ]
    }
   ],
   "source": [
    "print(\"We found %s bots in first approximation\" % filtered_bots.count()[0])"
   ]
  },
  {
   "cell_type": "markdown",
   "metadata": {},
   "source": [
    "Now collect all information from these accounts and search for corellations"
   ]
  },
  {
   "cell_type": "code",
   "execution_count": 98,
   "metadata": {
    "collapsed": false
   },
   "outputs": [],
   "source": [
    "first_cluster_bots = []\n",
    "for group in chunks(filtered_bots[\"name\"].values, 100):\n",
    "    for user in api.lookup_users(user_ids=list(group)):\n",
    "        first_cluster_bots.append(user)"
   ]
  },
  {
   "cell_type": "code",
   "execution_count": 104,
   "metadata": {
    "collapsed": false
   },
   "outputs": [],
   "source": [
    "locations = [user.location for user in first_cluster_bots]"
   ]
  },
  {
   "cell_type": "code",
   "execution_count": 119,
   "metadata": {
    "collapsed": false
   },
   "outputs": [
    {
     "data": {
      "text/plain": [
       "35"
      ]
     },
     "execution_count": 119,
     "metadata": {},
     "output_type": "execute_result"
    }
   ],
   "source": [
    "first_cluster_bots[0].favourites_count"
   ]
  },
  {
   "cell_type": "code",
   "execution_count": 121,
   "metadata": {
    "collapsed": true
   },
   "outputs": [],
   "source": [
    "possible_bot_users = pd.DataFrame([{'name': user.name, 'id': user.id, 'location': user.location, 'screen_name': user.screen_name, 'followers': user.followers_count, 'friends': user.friends_count, 'created_at': user.created_at, 'favorites': user.favourites_count} for user in first_cluster_bots])"
   ]
  },
  {
   "cell_type": "code",
   "execution_count": 123,
   "metadata": {
    "collapsed": false
   },
   "outputs": [
    {
     "data": {
      "text/plain": [
       "array([[<matplotlib.axes._subplots.AxesSubplot object at 0x127002e10>,\n",
       "        <matplotlib.axes._subplots.AxesSubplot object at 0x11be06b90>],\n",
       "       [<matplotlib.axes._subplots.AxesSubplot object at 0x11be7fb90>,\n",
       "        <matplotlib.axes._subplots.AxesSubplot object at 0x11bf0e090>]], dtype=object)"
      ]
     },
     "execution_count": 123,
     "metadata": {},
     "output_type": "execute_result"
    },
    {
     "data": {
      "image/png": "[encoded data removed]",
      "text/plain": [
       "<matplotlib.figure.Figure at 0x1271fe110>"
      ]
     },
     "metadata": {},
     "output_type": "display_data"
    }
   ],
   "source": [
    "possible_bot_users.hist()"
   ]
  },
  {
   "cell_type": "code",
   "execution_count": 142,
   "metadata": {
    "collapsed": false
   },
   "outputs": [
    {
     "data": {
      "text/plain": [
       "<matplotlib.axes._subplots.AxesSubplot at 0x12725bfd0>"
      ]
     },
     "execution_count": 142,
     "metadata": {},
     "output_type": "execute_result"
    },
    {
     "data": {
      "image/png": "[encoded data removed]",
      "text/plain": [
       "<matplotlib.figure.Figure at 0x12c262690>"
      ]
     },
     "metadata": {},
     "output_type": "display_data"
    }
   ],
   "source": [
    "possible_bot_users[[\"id\", \"location\"]].groupby('location').count().plot(kind='bar')"
   ]
  },
  {
   "cell_type": "markdown",
   "metadata": {},
   "source": [
    "Ok, we have two significant values. Moscow and New York. Let's split dataset"
   ]
  },
  {
   "cell_type": "code",
   "execution_count": 145,
   "metadata": {
    "collapsed": false
   },
   "outputs": [],
   "source": [
    "moscow_users = possible_bot_users[possible_bot_users[\"location\"] == u'Москва']"
   ]
  },
  {
   "cell_type": "code",
   "execution_count": 147,
   "metadata": {
    "collapsed": false
   },
   "outputs": [
    {
     "data": {
      "text/plain": [
       "array([[<matplotlib.axes._subplots.AxesSubplot object at 0x11c959e50>,\n",
       "        <matplotlib.axes._subplots.AxesSubplot object at 0x12c8cc6d0>],\n",
       "       [<matplotlib.axes._subplots.AxesSubplot object at 0x12c91f650>,\n",
       "        <matplotlib.axes._subplots.AxesSubplot object at 0x12c9aba10>]], dtype=object)"
      ]
     },
     "execution_count": 147,
     "metadata": {},
     "output_type": "execute_result"
    },
    {
     "data": {
      "image/png": "[encoded data removed]",
      "text/plain": [
       "<matplotlib.figure.Figure at 0x12c2e3ad0>"
      ]
     },
     "metadata": {},
     "output_type": "display_data"
    }
   ],
   "source": [
    "moscow_users.hist()"
   ]
  },
  {
   "cell_type": "code",
   "execution_count": 162,
   "metadata": {
    "collapsed": false
   },
   "outputs": [
    {
     "data": {
      "text/html": [
       "<div>\n",
       "<table border=\"1\" class=\"dataframe\">\n",
       "  <thead>\n",
       "    <tr style=\"text-align: right;\">\n",
       "      <th></th>\n",
       "      <th>created_at</th>\n",
       "      <th>favorites</th>\n",
       "      <th>followers</th>\n",
       "      <th>friends</th>\n",
       "      <th>id</th>\n",
       "      <th>location</th>\n",
       "      <th>name</th>\n",
       "      <th>screen_name</th>\n",
       "    </tr>\n",
       "  </thead>\n",
       "  <tbody>\n",
       "    <tr>\n",
       "      <th>0</th>\n",
       "      <td>2016-10-23 16:07:56</td>\n",
       "      <td>35</td>\n",
       "      <td>1990</td>\n",
       "      <td>2729</td>\n",
       "      <td>790223237066129408</td>\n",
       "      <td>Москва</td>\n",
       "      <td>Селезнёва Светлана</td>\n",
       "      <td>vyacheslavshotf</td>\n",
       "    </tr>\n",
       "    <tr>\n",
       "      <th>3</th>\n",
       "      <td>2016-10-23 15:21:48</td>\n",
       "      <td>46</td>\n",
       "      <td>2198</td>\n",
       "      <td>2994</td>\n",
       "      <td>790211627178221568</td>\n",
       "      <td>Москва</td>\n",
       "      <td>Владимирова Ирина</td>\n",
       "      <td>valeriygjjno</td>\n",
       "    </tr>\n",
       "    <tr>\n",
       "      <th>8</th>\n",
       "      <td>2016-10-19 15:24:33</td>\n",
       "      <td>46</td>\n",
       "      <td>2007</td>\n",
       "      <td>2780</td>\n",
       "      <td>788762768514117632</td>\n",
       "      <td>Москва</td>\n",
       "      <td>Фомина Маргарита</td>\n",
       "      <td>albragin39</td>\n",
       "    </tr>\n",
       "    <tr>\n",
       "      <th>13</th>\n",
       "      <td>2016-10-24 18:17:20</td>\n",
       "      <td>49</td>\n",
       "      <td>1724</td>\n",
       "      <td>2078</td>\n",
       "      <td>790618191873581056</td>\n",
       "      <td>Москва</td>\n",
       "      <td>Веселова Вероника</td>\n",
       "      <td>yuriysh382m</td>\n",
       "    </tr>\n",
       "    <tr>\n",
       "      <th>14</th>\n",
       "      <td>2016-10-21 17:13:44</td>\n",
       "      <td>36</td>\n",
       "      <td>2060</td>\n",
       "      <td>2663</td>\n",
       "      <td>789515019956477954</td>\n",
       "      <td>Москва</td>\n",
       "      <td>Мухина Елизавета</td>\n",
       "      <td>dimashixr</td>\n",
       "    </tr>\n",
       "    <tr>\n",
       "      <th>15</th>\n",
       "      <td>2016-10-20 02:15:06</td>\n",
       "      <td>52</td>\n",
       "      <td>2044</td>\n",
       "      <td>2509</td>\n",
       "      <td>788926486271131648</td>\n",
       "      <td>Москва</td>\n",
       "      <td>Киселёва Ирина</td>\n",
       "      <td>egoroxmik</td>\n",
       "    </tr>\n",
       "    <tr>\n",
       "      <th>17</th>\n",
       "      <td>2016-10-24 18:01:50</td>\n",
       "      <td>39</td>\n",
       "      <td>1917</td>\n",
       "      <td>2290</td>\n",
       "      <td>790614289207951360</td>\n",
       "      <td>Москва</td>\n",
       "      <td>Субботина Марина</td>\n",
       "      <td>leoniddyjg</td>\n",
       "    </tr>\n",
       "    <tr>\n",
       "      <th>19</th>\n",
       "      <td>2016-10-19 08:13:37</td>\n",
       "      <td>45</td>\n",
       "      <td>2016</td>\n",
       "      <td>2838</td>\n",
       "      <td>788654322825437184</td>\n",
       "      <td>Москва</td>\n",
       "      <td>Суханова Алина</td>\n",
       "      <td>fatyansitnikov1</td>\n",
       "    </tr>\n",
       "    <tr>\n",
       "      <th>21</th>\n",
       "      <td>2016-10-19 18:10:46</td>\n",
       "      <td>35</td>\n",
       "      <td>2082</td>\n",
       "      <td>2936</td>\n",
       "      <td>788804598693847040</td>\n",
       "      <td>Москва</td>\n",
       "      <td>Зиновьева Полина</td>\n",
       "      <td>evgeniy05p1</td>\n",
       "    </tr>\n",
       "    <tr>\n",
       "      <th>22</th>\n",
       "      <td>2016-10-21 07:24:08</td>\n",
       "      <td>44</td>\n",
       "      <td>2018</td>\n",
       "      <td>2671</td>\n",
       "      <td>789366644627955712</td>\n",
       "      <td>Москва</td>\n",
       "      <td>Кириллова Зинаида</td>\n",
       "      <td>mikhailg48ku</td>\n",
       "    </tr>\n",
       "  </tbody>\n",
       "</table>\n",
       "</div>"
      ],
      "text/plain": [
       "            created_at  favorites  followers  friends                  id  \\\n",
       "0  2016-10-23 16:07:56         35       1990     2729  790223237066129408   \n",
       "3  2016-10-23 15:21:48         46       2198     2994  790211627178221568   \n",
       "8  2016-10-19 15:24:33         46       2007     2780  788762768514117632   \n",
       "13 2016-10-24 18:17:20         49       1724     2078  790618191873581056   \n",
       "14 2016-10-21 17:13:44         36       2060     2663  789515019956477954   \n",
       "15 2016-10-20 02:15:06         52       2044     2509  788926486271131648   \n",
       "17 2016-10-24 18:01:50         39       1917     2290  790614289207951360   \n",
       "19 2016-10-19 08:13:37         45       2016     2838  788654322825437184   \n",
       "21 2016-10-19 18:10:46         35       2082     2936  788804598693847040   \n",
       "22 2016-10-21 07:24:08         44       2018     2671  789366644627955712   \n",
       "\n",
       "   location                name      screen_name  \n",
       "0    Москва  Селезнёва Светлана  vyacheslavshotf  \n",
       "3    Москва   Владимирова Ирина     valeriygjjno  \n",
       "8    Москва    Фомина Маргарита       albragin39  \n",
       "13   Москва   Веселова Вероника      yuriysh382m  \n",
       "14   Москва    Мухина Елизавета        dimashixr  \n",
       "15   Москва      Киселёва Ирина        egoroxmik  \n",
       "17   Москва    Субботина Марина       leoniddyjg  \n",
       "19   Москва      Суханова Алина  fatyansitnikov1  \n",
       "21   Москва    Зиновьева Полина      evgeniy05p1  \n",
       "22   Москва   Кириллова Зинаида     mikhailg48ku  "
      ]
     },
     "execution_count": 162,
     "metadata": {},
     "output_type": "execute_result"
    }
   ],
   "source": [
    "moscow_users[:10]"
   ]
  },
  {
   "cell_type": "markdown",
   "metadata": {},
   "source": [
    "Now check NY users"
   ]
  },
  {
   "cell_type": "code",
   "execution_count": 155,
   "metadata": {
    "collapsed": false
   },
   "outputs": [],
   "source": [
    "ny_users = possible_bot_users[possible_bot_users[\"location\"] == u'New York, USA']"
   ]
  },
  {
   "cell_type": "code",
   "execution_count": 160,
   "metadata": {
    "collapsed": false
   },
   "outputs": [
    {
     "data": {
      "text/plain": [
       "array([[<matplotlib.axes._subplots.AxesSubplot object at 0x12c600710>,\n",
       "        <matplotlib.axes._subplots.AxesSubplot object at 0x12d3b5450>],\n",
       "       [<matplotlib.axes._subplots.AxesSubplot object at 0x12d07ed50>,\n",
       "        <matplotlib.axes._subplots.AxesSubplot object at 0x12d49e590>]], dtype=object)"
      ]
     },
     "execution_count": 160,
     "metadata": {},
     "output_type": "execute_result"
    },
    {
     "data": {
      "image/png": "[encoded data removed]",
      "text/plain": [
       "<matplotlib.figure.Figure at 0x12d19d750>"
      ]
     },
     "metadata": {},
     "output_type": "display_data"
    }
   ],
   "source": [
    "ny_users.hist()"
   ]
  },
  {
   "cell_type": "code",
   "execution_count": 161,
   "metadata": {
    "collapsed": false
   },
   "outputs": [
    {
     "data": {
      "text/html": [
       "<div>\n",
       "<table border=\"1\" class=\"dataframe\">\n",
       "  <thead>\n",
       "    <tr style=\"text-align: right;\">\n",
       "      <th></th>\n",
       "      <th>created_at</th>\n",
       "      <th>favorites</th>\n",
       "      <th>followers</th>\n",
       "      <th>friends</th>\n",
       "      <th>id</th>\n",
       "      <th>location</th>\n",
       "      <th>name</th>\n",
       "      <th>screen_name</th>\n",
       "    </tr>\n",
       "  </thead>\n",
       "  <tbody>\n",
       "    <tr>\n",
       "      <th>1</th>\n",
       "      <td>2016-10-21 06:43:36</td>\n",
       "      <td>43</td>\n",
       "      <td>1964</td>\n",
       "      <td>2346</td>\n",
       "      <td>789356444982382592</td>\n",
       "      <td>New York, USA</td>\n",
       "      <td>Lane Helen</td>\n",
       "      <td>borisegorov2k3</td>\n",
       "    </tr>\n",
       "    <tr>\n",
       "      <th>2</th>\n",
       "      <td>2016-10-19 15:37:05</td>\n",
       "      <td>47</td>\n",
       "      <td>1868</td>\n",
       "      <td>2275</td>\n",
       "      <td>788765922349682688</td>\n",
       "      <td>New York, USA</td>\n",
       "      <td>Perkins Emily</td>\n",
       "      <td>alc6jkarpov</td>\n",
       "    </tr>\n",
       "    <tr>\n",
       "      <th>4</th>\n",
       "      <td>2016-10-20 06:23:41</td>\n",
       "      <td>55</td>\n",
       "      <td>1866</td>\n",
       "      <td>2275</td>\n",
       "      <td>788989043195441152</td>\n",
       "      <td>New York, USA</td>\n",
       "      <td>Lucas Joella</td>\n",
       "      <td>aleefimov7eti</td>\n",
       "    </tr>\n",
       "    <tr>\n",
       "      <th>5</th>\n",
       "      <td>2016-10-19 17:36:35</td>\n",
       "      <td>45</td>\n",
       "      <td>1912</td>\n",
       "      <td>2306</td>\n",
       "      <td>788795994335051776</td>\n",
       "      <td>New York, USA</td>\n",
       "      <td>Randall Madeline</td>\n",
       "      <td>paveloeyak</td>\n",
       "    </tr>\n",
       "    <tr>\n",
       "      <th>6</th>\n",
       "      <td>2016-10-23 15:21:55</td>\n",
       "      <td>201</td>\n",
       "      <td>2004</td>\n",
       "      <td>4405</td>\n",
       "      <td>790211657373016064</td>\n",
       "      <td>New York, USA</td>\n",
       "      <td>Sherman Hilary</td>\n",
       "      <td>eduardaygalkin</td>\n",
       "    </tr>\n",
       "    <tr>\n",
       "      <th>9</th>\n",
       "      <td>2016-10-21 06:48:08</td>\n",
       "      <td>28</td>\n",
       "      <td>1813</td>\n",
       "      <td>2132</td>\n",
       "      <td>789357583501029376</td>\n",
       "      <td>New York, USA</td>\n",
       "      <td>Hamilton Shanna</td>\n",
       "      <td>eduard0uq2zhuk1</td>\n",
       "    </tr>\n",
       "    <tr>\n",
       "      <th>10</th>\n",
       "      <td>2016-10-20 02:24:20</td>\n",
       "      <td>229</td>\n",
       "      <td>2045</td>\n",
       "      <td>4812</td>\n",
       "      <td>788928807998787584</td>\n",
       "      <td>New York, USA</td>\n",
       "      <td>Cross Patricia</td>\n",
       "      <td>igorvm2zimin</td>\n",
       "    </tr>\n",
       "    <tr>\n",
       "      <th>11</th>\n",
       "      <td>2016-10-19 15:36:25</td>\n",
       "      <td>43</td>\n",
       "      <td>1925</td>\n",
       "      <td>2354</td>\n",
       "      <td>788765752727785472</td>\n",
       "      <td>New York, USA</td>\n",
       "      <td>Adams Priscillaц</td>\n",
       "      <td>ilya0b3pbe</td>\n",
       "    </tr>\n",
       "    <tr>\n",
       "      <th>16</th>\n",
       "      <td>2016-10-20 03:21:27</td>\n",
       "      <td>175</td>\n",
       "      <td>1979</td>\n",
       "      <td>4325</td>\n",
       "      <td>788943181924724736</td>\n",
       "      <td>New York, USA</td>\n",
       "      <td>Lindsey Doris</td>\n",
       "      <td>aljxtzykov</td>\n",
       "    </tr>\n",
       "    <tr>\n",
       "      <th>18</th>\n",
       "      <td>2016-10-21 17:34:19</td>\n",
       "      <td>49</td>\n",
       "      <td>1679</td>\n",
       "      <td>2051</td>\n",
       "      <td>789520202056732672</td>\n",
       "      <td>New York, USA</td>\n",
       "      <td>Lloyd Emily</td>\n",
       "      <td>arturgos90</td>\n",
       "    </tr>\n",
       "  </tbody>\n",
       "</table>\n",
       "</div>"
      ],
      "text/plain": [
       "            created_at  favorites  followers  friends                  id  \\\n",
       "1  2016-10-21 06:43:36         43       1964     2346  789356444982382592   \n",
       "2  2016-10-19 15:37:05         47       1868     2275  788765922349682688   \n",
       "4  2016-10-20 06:23:41         55       1866     2275  788989043195441152   \n",
       "5  2016-10-19 17:36:35         45       1912     2306  788795994335051776   \n",
       "6  2016-10-23 15:21:55        201       2004     4405  790211657373016064   \n",
       "9  2016-10-21 06:48:08         28       1813     2132  789357583501029376   \n",
       "10 2016-10-20 02:24:20        229       2045     4812  788928807998787584   \n",
       "11 2016-10-19 15:36:25         43       1925     2354  788765752727785472   \n",
       "16 2016-10-20 03:21:27        175       1979     4325  788943181924724736   \n",
       "18 2016-10-21 17:34:19         49       1679     2051  789520202056732672   \n",
       "\n",
       "         location              name      screen_name  \n",
       "1   New York, USA        Lane Helen   borisegorov2k3  \n",
       "2   New York, USA     Perkins Emily      alc6jkarpov  \n",
       "4   New York, USA      Lucas Joella    aleefimov7eti  \n",
       "5   New York, USA  Randall Madeline       paveloeyak  \n",
       "6   New York, USA    Sherman Hilary   eduardaygalkin  \n",
       "9   New York, USA   Hamilton Shanna  eduard0uq2zhuk1  \n",
       "10  New York, USA    Cross Patricia     igorvm2zimin  \n",
       "11  New York, USA  Adams Priscillaц       ilya0b3pbe  \n",
       "16  New York, USA     Lindsey Doris       aljxtzykov  \n",
       "18  New York, USA       Lloyd Emily       arturgos90  "
      ]
     },
     "execution_count": 161,
     "metadata": {},
     "output_type": "execute_result"
    }
   ],
   "source": [
    "ny_users[:10]"
   ]
  },
  {
   "cell_type": "markdown",
   "metadata": {},
   "source": [
    "## Conclusion\n",
    "We have one twitter bot network on two languages: Russian and English. \n",
    "All bots have deep linking and posts random sentences every hour."
   ]
  },
  {
   "cell_type": "code",
   "execution_count": 163,
   "metadata": {
    "collapsed": false
   },
   "outputs": [
    {
     "name": "stdout",
     "output_type": "stream",
     "text": [
      "Moscow bots: 370, NY bots: 168, Total: 538\n"
     ]
    }
   ],
   "source": [
    "print(\"Moscow bots: %d, NY bots: %d, Total: %d\" % (moscow_users.count()[0], ny_users.count()[0], moscow_users.count()[0] + ny_users.count()[0]))"
   ]
  },
  {
   "cell_type": "markdown",
   "metadata": {},
   "source": [
    "Now export moscow and ny users to csv"
   ]
  },
  {
   "cell_type": "code",
   "execution_count": 167,
   "metadata": {
    "collapsed": false
   },
   "outputs": [],
   "source": [
    "ny_users.append(moscow_users).to_csv(\"./moscow_ny_bots.csv\", encoding='utf8')"
   ]
  },
  {
   "cell_type": "code",
   "execution_count": null,
   "metadata": {
    "collapsed": true
   },
   "outputs": [],
   "source": []
  }
 ],
 "metadata": {
  "kernelspec": {
   "display_name": "Python 2",
   "language": "python",
   "name": "python2"
  },
  "language_info": {
   "codemirror_mode": {
    "name": "ipython",
    "version": 2
   },
   "file_extension": ".py",
   "mimetype": "text/x-python",
   "name": "python",
   "nbconvert_exporter": "python",
   "pygments_lexer": "ipython2",
   "version": "2.7.13"
  },
  "widgets": {
   "state": {},
   "version": "1.1.2"
  }
 },
 "nbformat": 4,
 "nbformat_minor": 0
}
