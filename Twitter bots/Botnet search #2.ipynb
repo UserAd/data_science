{
 "cells": [
  {
   "cell_type": "code",
   "execution_count": 4,
   "metadata": {
    "collapsed": true
   },
   "outputs": [],
   "source": [
    "import tweepy\n",
    "import time\n",
    "import pandas as pd\n",
    "\n",
    "from IPython.core.display import HTML, display \n",
    "\n",
    "import matplotlib.pyplot as plt\n",
    "import seaborn\n",
    "\n",
    "%matplotlib inline\n",
    "plt.rcParams['figure.figsize'] = (15, 8)\n",
    "\n",
    "\n",
    "OAUTH_KEY = ''\n",
    "OAUTH_SECRET = ''\n",
    "ACCESS_TOKEN = ''\n",
    "ACCESS_TOKEN_SECRET = ''\n"
   ]
  },
  {
   "cell_type": "code",
   "execution_count": 5,
   "metadata": {
    "collapsed": true
   },
   "outputs": [],
   "source": [
    "auth = tweepy.OAuthHandler(OAUTH_KEY, OAUTH_SECRET)\n",
    "auth.set_access_token(ACCESS_TOKEN, ACCESS_TOKEN_SECRET)\n",
    "api = tweepy.API(auth, wait_on_rate_limit=True, wait_on_rate_limit_notify=True)\n",
    "graph = Graph(user=NEO4J_USER, password=NEO4J_SECRET)"
   ]
  },
  {
   "cell_type": "code",
   "execution_count": 6,
   "metadata": {
    "collapsed": true
   },
   "outputs": [],
   "source": [
    "def get_follwers_by_id(account_id):\n",
    "    ids = []\n",
    "    for page in tweepy.Cursor(api.followers_ids, user_id=account_id).pages():\n",
    "        print(\"FOLLOWERS: Next page for %s\" % account_id)\n",
    "        ids.extend(page)\n",
    "    return ids\n",
    "\n",
    "def get_friends_by_id(account_id):\n",
    "    ids = []\n",
    "    for page in tweepy.Cursor(api.friends_ids, user_id=account_id).pages():\n",
    "        print(\"FRIENDS: Next page for %s\" % account_id)\n",
    "        ids.extend(page)\n",
    "    return ids\n",
    "\n",
    "def get_friends(account):\n",
    "    ids = []\n",
    "    for page in tweepy.Cursor(api.friends_ids, screen_name=account).pages():\n",
    "        print(\"Next page for %s\" % account)\n",
    "        ids.extend(page)\n",
    "    return ids\n",
    "\n",
    "def chunks(l, n):\n",
    "    for i in range(0, len(l), n):\n",
    "        yield l[i:i + n]"
   ]
  },
  {
   "cell_type": "code",
   "execution_count": 4,
   "metadata": {
    "collapsed": true
   },
   "outputs": [],
   "source": [
    "botnet = pd.read_csv('./moscow_ny_bots.csv')"
   ]
  },
  {
   "cell_type": "code",
   "execution_count": 6,
   "metadata": {
    "collapsed": false
   },
   "outputs": [
    {
     "data": {
      "text/plain": [
       "Unnamed: 0    2.948457e+02\n",
       "favorites     5.907807e+01\n",
       "followers     2.067621e+03\n",
       "friends       2.805398e+03\n",
       "id            7.889233e+17\n",
       "dtype: float64"
      ]
     },
     "execution_count": 6,
     "metadata": {},
     "output_type": "execute_result"
    }
   ],
   "source": [
    "botnet.mean()"
   ]
  },
  {
   "cell_type": "code",
   "execution_count": 8,
   "metadata": {
    "collapsed": false
   },
   "outputs": [
    {
     "data": {
      "text/plain": [
       "Unnamed: 0    1.708186e+02\n",
       "favorites     4.554484e+01\n",
       "followers     1.898587e+02\n",
       "friends       6.387455e+02\n",
       "id            2.279174e+15\n",
       "dtype: float64"
      ]
     },
     "execution_count": 8,
     "metadata": {},
     "output_type": "execute_result"
    }
   ],
   "source": [
    "botnet.std()"
   ]
  },
  {
   "cell_type": "code",
   "execution_count": 10,
   "metadata": {
    "collapsed": false
   },
   "outputs": [
    {
     "name": "stdout",
     "output_type": "stream",
     "text": [
      "Next page for borisegorov2k3\n",
      "Next page for alc6jkarpov\n",
      "Next page for aleefimov7eti\n",
      "Next page for paveloeyak\n",
      "Next page for eduardaygalkin\n",
      "Next page for eduard0uq2zhuk1\n",
      ".... CUT ....",
      "Next page for fedorsubyard\n",
      "Next page for svetlanmelniko3\n",
      "Next page for kalashn23274225\n",
      "Next page for dimad4n5\n",
      "Next page for petrref7\n",
      "Next page for antonvor0ez\n",
      "Next page for kirillpv8gsa\n"
     ]
    }
   ],
   "source": [
    "friend_ids = []\n",
    "for account in botnet['screen_name'].values:\n",
    "    friend_ids = list(set(friend_ids) | set(get_friends(account)))"
   ]
  },
  {
   "cell_type": "markdown",
   "metadata": {},
   "source": [
    "Now get info about all these users"
   ]
  },
  {
   "cell_type": "code",
   "execution_count": 13,
   "metadata": {
    "collapsed": false
   },
   "outputs": [
    {
     "name": "stdout",
     "output_type": "stream",
     "text": [
      "We get 142225 friends\n"
     ]
    }
   ],
   "source": [
    "print(\"We get %s friends\" % len(friend_ids))"
   ]
  },
  {
   "cell_type": "markdown",
   "metadata": {},
   "source": [
    "Now extract user info from these users"
   ]
  },
  {
   "cell_type": "code",
   "execution_count": 35,
   "metadata": {
    "collapsed": false
   },
   "outputs": [],
   "source": [
    "possible_bots = []\n",
    "for group in chunks(friend_ids, 100):\n",
    "    for user in api.lookup_users(user_ids=list(group)):\n",
    "        possible_bots.append(user)\n",
    "        \n",
    "possible_bots_df = pd.DataFrame([{'name': user.name, 'id': user.id, 'location': user.location, 'screen_name': user.screen_name, 'followers': user.followers_count, 'friends': user.friends_count, 'created_at': user.created_at, 'favorites': user.favourites_count, 'tweets': user.statuses_count} for user in possible_bots])"
   ]
  },
  {
   "cell_type": "code",
   "execution_count": 13,
   "metadata": {
    "collapsed": false
   },
   "outputs": [],
   "source": [
    "possible_bots_df.to_csv(\"./users_pt2.csv\", encoding='utf8')\n",
    "#Here i have pause in my investigation, so i saved and load back all info\n",
    "#possible_bots_df = pd.read_csv(\"./users_pt2.csv\", encoding='utf8')"
   ]
  },
  {
   "cell_type": "code",
   "execution_count": 17,
   "metadata": {
    "collapsed": false
   },
   "outputs": [],
   "source": [
    "locations = possible_bots_df[[\"id\", \"location\"]].groupby('location').count()"
   ]
  },
  {
   "cell_type": "code",
   "execution_count": 22,
   "metadata": {
    "collapsed": false
   },
   "outputs": [
    {
     "data": {
      "text/plain": [
       "<matplotlib.axes._subplots.AxesSubplot at 0x10cf92a90>"
      ]
     },
     "execution_count": 22,
     "metadata": {},
     "output_type": "execute_result"
    },
    {
     "data": {
      "image/png": "[encoded data removed]",
      "text/plain": [
       "<matplotlib.figure.Figure at 0x10eaaffd0>"
      ]
     },
     "metadata": {},
     "output_type": "display_data"
    }
   ],
   "source": [
    "locations[locations['id'] > 100].plot(kind=\"bar\")"
   ]
  },
  {
   "cell_type": "markdown",
   "metadata": {},
   "source": [
    "### Let's look at moscow users"
   ]
  },
  {
   "cell_type": "code",
   "execution_count": 15,
   "metadata": {
    "collapsed": false
   },
   "outputs": [],
   "source": [
    "moscow_users = possible_bots_df[(possible_bots_df[\"location\"] == u'Москва') & (possible_bots_df[\"id\"] > 6 * 1e17)]"
   ]
  },
  {
   "cell_type": "code",
   "execution_count": 16,
   "metadata": {
    "collapsed": false
   },
   "outputs": [
    {
     "data": {
      "text/plain": [
       "array([[<matplotlib.axes._subplots.AxesSubplot object at 0x11080d190>,\n",
       "        <matplotlib.axes._subplots.AxesSubplot object at 0x10d3dd190>],\n",
       "       [<matplotlib.axes._subplots.AxesSubplot object at 0x10d458890>,\n",
       "        <matplotlib.axes._subplots.AxesSubplot object at 0x10d5c3ad0>],\n",
       "       [<matplotlib.axes._subplots.AxesSubplot object at 0x10d862fd0>,\n",
       "        <matplotlib.axes._subplots.AxesSubplot object at 0x10dd5f350>]], dtype=object)"
      ]
     },
     "execution_count": 16,
     "metadata": {},
     "output_type": "execute_result"
    },
    {
     "data": {
      "image/png": "[encoded data removed]",
      "text/plain": [
       "<matplotlib.figure.Figure at 0x1146c6c10>"
      ]
     },
     "metadata": {},
     "output_type": "display_data"
    }
   ],
   "source": [
    "moscow_users.hist()"
   ]
  },
  {
   "cell_type": "code",
   "execution_count": 23,
   "metadata": {
    "collapsed": false
   },
   "outputs": [
    {
     "data": {
      "text/html": [
       "<div>\n",
       "<table border=\"1\" class=\"dataframe\">\n",
       "  <thead>\n",
       "    <tr style=\"text-align: right;\">\n",
       "      <th></th>\n",
       "      <th>Unnamed: 0</th>\n",
       "      <th>created_at</th>\n",
       "      <th>favorites</th>\n",
       "      <th>followers</th>\n",
       "      <th>friends</th>\n",
       "      <th>id</th>\n",
       "      <th>location</th>\n",
       "      <th>name</th>\n",
       "      <th>screen_name</th>\n",
       "      <th>tweets</th>\n",
       "    </tr>\n",
       "  </thead>\n",
       "  <tbody>\n",
       "    <tr>\n",
       "      <th>68</th>\n",
       "      <td>68.0</td>\n",
       "      <td>2016-09-13 17:13:21</td>\n",
       "      <td>72</td>\n",
       "      <td>2420</td>\n",
       "      <td>3400.0</td>\n",
       "      <td>7.757442e+17</td>\n",
       "      <td>Москва</td>\n",
       "      <td>Беляева Глафира</td>\n",
       "      <td>nekrasovamanue6</td>\n",
       "      <td>381.0</td>\n",
       "    </tr>\n",
       "    <tr>\n",
       "      <th>80</th>\n",
       "      <td>80.0</td>\n",
       "      <td>2016-10-20 05:03:57</td>\n",
       "      <td>79</td>\n",
       "      <td>1913</td>\n",
       "      <td>2134.0</td>\n",
       "      <td>7.889690e+17</td>\n",
       "      <td>Москва</td>\n",
       "      <td>Владимирова Вера</td>\n",
       "      <td>olegmh4bragin</td>\n",
       "      <td>173.0</td>\n",
       "    </tr>\n",
       "    <tr>\n",
       "      <th>164</th>\n",
       "      <td>164.0</td>\n",
       "      <td>2016-09-13 21:20:18</td>\n",
       "      <td>93</td>\n",
       "      <td>2515</td>\n",
       "      <td>3166.0</td>\n",
       "      <td>7.758063e+17</td>\n",
       "      <td>Москва</td>\n",
       "      <td>Маслова Василиса</td>\n",
       "      <td>LiveriyTurov</td>\n",
       "      <td>395.0</td>\n",
       "    </tr>\n",
       "    <tr>\n",
       "      <th>217</th>\n",
       "      <td>217.0</td>\n",
       "      <td>2016-09-13 20:04:14</td>\n",
       "      <td>121</td>\n",
       "      <td>1941</td>\n",
       "      <td>1706.0</td>\n",
       "      <td>7.757872e+17</td>\n",
       "      <td>Москва</td>\n",
       "      <td>Савельева Екатерина</td>\n",
       "      <td>EvmeniyShchukin</td>\n",
       "      <td>805.0</td>\n",
       "    </tr>\n",
       "    <tr>\n",
       "      <th>346</th>\n",
       "      <td>346.0</td>\n",
       "      <td>2016-09-13 22:30:53</td>\n",
       "      <td>62</td>\n",
       "      <td>2602</td>\n",
       "      <td>3273.0</td>\n",
       "      <td>7.758241e+17</td>\n",
       "      <td>Москва</td>\n",
       "      <td>Савельева Юлия</td>\n",
       "      <td>zigfridazaytse1</td>\n",
       "      <td>279.0</td>\n",
       "    </tr>\n",
       "    <tr>\n",
       "      <th>422</th>\n",
       "      <td>422.0</td>\n",
       "      <td>2016-09-13 13:00:50</td>\n",
       "      <td>58</td>\n",
       "      <td>2556</td>\n",
       "      <td>3085.0</td>\n",
       "      <td>7.756806e+17</td>\n",
       "      <td>Москва</td>\n",
       "      <td>Катя Самсонова</td>\n",
       "      <td>alma_maksimova</td>\n",
       "      <td>267.0</td>\n",
       "    </tr>\n",
       "    <tr>\n",
       "      <th>437</th>\n",
       "      <td>437.0</td>\n",
       "      <td>2016-08-11 15:44:33</td>\n",
       "      <td>101</td>\n",
       "      <td>1786</td>\n",
       "      <td>1518.0</td>\n",
       "      <td>7.637630e+17</td>\n",
       "      <td>Москва</td>\n",
       "      <td>Давыдова Ираида</td>\n",
       "      <td>PalladiyaIlina</td>\n",
       "      <td>1053.0</td>\n",
       "    </tr>\n",
       "    <tr>\n",
       "      <th>593</th>\n",
       "      <td>593.0</td>\n",
       "      <td>2016-09-13 19:22:10</td>\n",
       "      <td>63</td>\n",
       "      <td>2303</td>\n",
       "      <td>3383.0</td>\n",
       "      <td>7.757766e+17</td>\n",
       "      <td>Москва</td>\n",
       "      <td>Баранова Глафира</td>\n",
       "      <td>karl_lobanov</td>\n",
       "      <td>359.0</td>\n",
       "    </tr>\n",
       "    <tr>\n",
       "      <th>775</th>\n",
       "      <td>775.0</td>\n",
       "      <td>2016-09-13 10:19:52</td>\n",
       "      <td>71</td>\n",
       "      <td>2361</td>\n",
       "      <td>3345.0</td>\n",
       "      <td>7.756401e+17</td>\n",
       "      <td>Москва</td>\n",
       "      <td>Самойлова Евпраксия</td>\n",
       "      <td>sharapova_nila</td>\n",
       "      <td>337.0</td>\n",
       "    </tr>\n",
       "    <tr>\n",
       "      <th>849</th>\n",
       "      <td>849.0</td>\n",
       "      <td>2016-10-24 18:55:30</td>\n",
       "      <td>55</td>\n",
       "      <td>2556</td>\n",
       "      <td>3133.0</td>\n",
       "      <td>7.906278e+17</td>\n",
       "      <td>Москва</td>\n",
       "      <td>Хохлова Лидия</td>\n",
       "      <td>artyomthw</td>\n",
       "      <td>497.0</td>\n",
       "    </tr>\n",
       "  </tbody>\n",
       "</table>\n",
       "</div>"
      ],
      "text/plain": [
       "     Unnamed: 0           created_at favorites  followers  friends  \\\n",
       "68         68.0  2016-09-13 17:13:21        72       2420   3400.0   \n",
       "80         80.0  2016-10-20 05:03:57        79       1913   2134.0   \n",
       "164       164.0  2016-09-13 21:20:18        93       2515   3166.0   \n",
       "217       217.0  2016-09-13 20:04:14       121       1941   1706.0   \n",
       "346       346.0  2016-09-13 22:30:53        62       2602   3273.0   \n",
       "422       422.0  2016-09-13 13:00:50        58       2556   3085.0   \n",
       "437       437.0  2016-08-11 15:44:33       101       1786   1518.0   \n",
       "593       593.0  2016-09-13 19:22:10        63       2303   3383.0   \n",
       "775       775.0  2016-09-13 10:19:52        71       2361   3345.0   \n",
       "849       849.0  2016-10-24 18:55:30        55       2556   3133.0   \n",
       "\n",
       "               id location                 name      screen_name  tweets  \n",
       "68   7.757442e+17   Москва      Беляева Глафира  nekrasovamanue6   381.0  \n",
       "80   7.889690e+17   Москва     Владимирова Вера    olegmh4bragin   173.0  \n",
       "164  7.758063e+17   Москва     Маслова Василиса     LiveriyTurov   395.0  \n",
       "217  7.757872e+17   Москва  Савельева Екатерина  EvmeniyShchukin   805.0  \n",
       "346  7.758241e+17   Москва       Савельева Юлия  zigfridazaytse1   279.0  \n",
       "422  7.756806e+17   Москва       Катя Самсонова   alma_maksimova   267.0  \n",
       "437  7.637630e+17   Москва      Давыдова Ираида   PalladiyaIlina  1053.0  \n",
       "593  7.757766e+17   Москва     Баранова Глафира     karl_lobanov   359.0  \n",
       "775  7.756401e+17   Москва  Самойлова Евпраксия   sharapova_nila   337.0  \n",
       "849  7.906278e+17   Москва        Хохлова Лидия        artyomthw   497.0  "
      ]
     },
     "execution_count": 23,
     "metadata": {},
     "output_type": "execute_result"
    }
   ],
   "source": [
    "moscow_users[:10]"
   ]
  },
  {
   "cell_type": "code",
   "execution_count": 24,
   "metadata": {
    "collapsed": false
   },
   "outputs": [
    {
     "name": "stdout",
     "output_type": "stream",
     "text": [
      "Total found: 2668\n"
     ]
    }
   ],
   "source": [
    "print(\"Total found: %s\" % moscow_users.count()[0])"
   ]
  },
  {
   "cell_type": "code",
   "execution_count": 27,
   "metadata": {
    "collapsed": true
   },
   "outputs": [],
   "source": [
    "moscow_users.to_csv(\"./botnet_moscow.csv\", encoding=\"utf8\")"
   ]
  },
  {
   "cell_type": "markdown",
   "metadata": {},
   "source": [
    "## Conclusion"
   ]
  },
  {
   "cell_type": "markdown",
   "metadata": {},
   "source": [
    "Someone back in 2016 fall built small very deep linked botnet about 3k members.\n",
    "Every bot has random photo (all same size) and random background image. \n",
    "Every bot post cites and photos. Some have ad retweets. \n",
    "Looks like names created by some \"faker\" library. Screen name and Profile name doesn't have any correlations."
   ]
  },
  {
   "cell_type": "code",
   "execution_count": null,
   "metadata": {
    "collapsed": true
   },
   "outputs": [],
   "source": []
  }
 ],
 "metadata": {
  "kernelspec": {
   "display_name": "Python 2",
   "language": "python",
   "name": "python2"
  },
  "widgets": {
   "state": {},
   "version": "1.1.2"
  }
 },
 "nbformat": 4,
 "nbformat_minor": 0
}
